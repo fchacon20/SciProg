{
 "cells": [
  {
   "cell_type": "markdown",
   "metadata": {},
   "source": [
    "<center>\n",
    "    <h1> Programación Científica</h1>\n",
    "    <h2> Actividad 4 </h2>\n",
    "    <h2> Felipe Chacón Ossa </h2>\n",
    "    <h2> 201303017-3 </h2>\n",
    "</center>\n",
    "\n",
    "_ Abril 2017_"
   ]
  },
  {
   "cell_type": "code",
   "execution_count": 1,
   "metadata": {
    "collapsed": true
   },
   "outputs": [],
   "source": [
    "import numba\n",
    "import numpy as np\n",
    "import numexpr as ne\n",
    "import matplotlib.pyplot as plt"
   ]
  },
  {
   "cell_type": "markdown",
   "metadata": {
    "collapsed": true
   },
   "source": [
    "En esta actividad implementaremos una conocida métrica para medir disimilitud entre conjuntos: __La métrica de Hausdorff__. Esta corresponde a un métrica o distancia ocupada para medir cuán disímiles son dos subconjuntos dados. \n",
    "\n",
    "\n",
    "Esta tiene muchas aplicaciones, en particular para comparar el parecido entre imágenes. En el caso en donde los conjuntos son arreglos bidimensionales, la definición es la siguiente:\n",
    "\n",
    "Sean $X \\in \\mathbb{R}^{m \\times 3}$ e  $Y \\in \\mathbb{R}^{n \\times 3}$ dos matrices, la métrica/distancia de Hausdorff sobre sobre estas como:\n",
    "\n",
    "$$\n",
    "d_H(X,Y) = \\max \\left(\\ \\max_{i\\leq m} \\min_{j \\leq n} d(X[i],Y[j]), \\ \\max_{j\\leq n} \\min_{i \\leq m} d(Y[j],X[i]) \\ \\right)\n",
    "$$\n",
    "\n",
    "donde $d$ es la _distancia Euclideana_ clásica. ($X[i]$ indíca la i-ésima fila de X).\n",
    "\n",
    "__Ilustración unidimensional:__ Distancia entre funciones.\n",
    "<img src='data/hausdorff.png' style=\"width: 600px;\">"
   ]
  },
  {
   "cell_type": "markdown",
   "metadata": {},
   "source": [
    "1. Implemente la métrica de Hausdorff en Python clásico.\n",
    "2. Implemente la métrica de Hausdorff usando Numba (Forzando el modo __nopython__ y definiendo explícitamente las _signatures_ de las funciones).\n",
    "3. Cree `10` arreglos $X,Y$ aleatorios, con cantidad creciente de filas, y realice análsis de tiempos de ejecuciones de las funciones anteriores sobre estos arreglos.\n",
    "4. Concluya."
   ]
  },
  {
   "cell_type": "code",
   "execution_count": 26,
   "metadata": {
    "collapsed": true
   },
   "outputs": [],
   "source": [
    "def distance(a,b):\n",
    "    return np.linalg.norm(a) - np.linalg.norm(b)\n",
    "\n",
    "def hausdorff(a,b):\n",
    "    l1, l2, l3 = [], [], []\n",
    "    \n",
    "    for i in range(a.shape[0]):\n",
    "        for j in range(b.shape[0]):\n",
    "            l1.append(distance(a[i],b[j]))\n",
    "        l2.append(min(l1))\n",
    "        l1 = []\n",
    "    l3.append(max(l2))\n",
    "    l2 = []\n",
    "    \n",
    "    for j in range(b.shape[0]):\n",
    "        for i in range(a.shape[0]):\n",
    "            l1.append(distance(b[j],a[j]))\n",
    "        l2.append(min(l1))\n",
    "        l1 = []\n",
    "    l3.append(max(l2))\n",
    "    l2 = []\n",
    "    \n",
    "    return(max(l3))"
   ]
  },
  {
   "cell_type": "code",
   "execution_count": 53,
   "metadata": {
    "collapsed": false
   },
   "outputs": [],
   "source": [
    "@numba.jit('float64 (float64[:], float64[:])', nopython = True)\n",
    "def numbaDistance(a,b):\n",
    "    return np.linalg.norm(a) - np.linalg.norm(b)\n",
    "\n",
    "@numba.jit('float64 (float64[:,:], float64[:,:])')\n",
    "def numbaHausdorff(a,b):\n",
    "    l1, l2, l3 = [99999999], [-1], [-1]\n",
    "    \n",
    "    for i in range(a.shape[0]):\n",
    "        for j in range(b.shape[0]):\n",
    "            l1.append(numbaDistance(a[i],b[j]))\n",
    "        l2.append(min(l1[1:]))\n",
    "        l1 = [99999999]\n",
    "    l3.append(max(l2))\n",
    "    l2 = [-1]\n",
    "    \n",
    "    for j in range(b.shape[0]):\n",
    "        for i in range(a.shape[0]):\n",
    "            l1.append(numbaDistance(b[j],a[j]))\n",
    "        l2.append(min(l1[1:]))\n",
    "        l1 = [9999999]\n",
    "    l3.append(max(l2))\n",
    "    l2 = [-1]\n",
    "    \n",
    "    return(max(l3))"
   ]
  },
  {
   "cell_type": "code",
   "execution_count": 28,
   "metadata": {
    "collapsed": false
   },
   "outputs": [],
   "source": [
    "matricesX = []\n",
    "matricesY = []\n",
    "for i in np.arange(1,11):\n",
    "    matricesX.append(np.random.random((15*i,15*i)))\n",
    "    matricesY.append(np.random.random((15*i,15*i)))"
   ]
  },
  {
   "cell_type": "code",
   "execution_count": 45,
   "metadata": {
    "collapsed": false,
    "scrolled": false
   },
   "outputs": [
    {
     "name": "stdout",
     "output_type": "stream",
     "text": [
      "1 loop, best of 3: 1.38 s per loop\n"
     ]
    }
   ],
   "source": [
    "%%timeit\n",
    "for i in np.arange(10):\n",
    "    hausdorff(matricesX[i],matricesY[i])"
   ]
  },
  {
   "cell_type": "code",
   "execution_count": 49,
   "metadata": {
    "collapsed": false
   },
   "outputs": [
    {
     "name": "stdout",
     "output_type": "stream",
     "text": [
      "1 loop, best of 3: 264 ms per loop\n"
     ]
    }
   ],
   "source": [
    "%%timeit\n",
    "for i in np.arange(10):\n",
    "    numbaHausdorff(matricesX[i],matricesY[i])"
   ]
  },
  {
   "cell_type": "markdown",
   "metadata": {},
   "source": [
    "Compilación Just In Time es excelente para acortar el tiempo de los algoritmos, pero no todos pueden ser utilizados con numba, además, ya que se traduce directamente a código de máquina, es mejor si se le explicitan los tipos de datos en vez de que los tenga que adivinar."
   ]
  },
  {
   "cell_type": "code",
   "execution_count": null,
   "metadata": {
    "collapsed": true
   },
   "outputs": [],
   "source": []
  }
 ],
 "metadata": {
  "kernelspec": {
   "display_name": "Python 3",
   "language": "python",
   "name": "python3"
  },
  "language_info": {
   "codemirror_mode": {
    "name": "ipython",
    "version": 3
   },
   "file_extension": ".py",
   "mimetype": "text/x-python",
   "name": "python",
   "nbconvert_exporter": "python",
   "pygments_lexer": "ipython3",
   "version": "3.6.0"
  }
 },
 "nbformat": 4,
 "nbformat_minor": 2
}
