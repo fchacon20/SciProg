{
 "cells": [
  {
   "cell_type": "markdown",
   "metadata": {},
   "source": [
    "<center>\n",
    "    <h1> Programación Científica</h1>\n",
    "    <h2> Actividad 7 </h2>\n",
    "    <h2> Felipe Chacón Ossa </h2>\n",
    "    <h2> 201303017-3 </h2>\n",
    "</center>\n",
    "\n",
    "_Mayo 2017_"
   ]
  },
  {
   "cell_type": "code",
   "execution_count": 1,
   "metadata": {
    "collapsed": true
   },
   "outputs": [],
   "source": [
    "import numba\n",
    "import numexpr as ne\n",
    "import numpy as np\n",
    "import matplotlib.pyplot as plt\n",
    "import matplotlib.image as mpimg"
   ]
  },
  {
   "cell_type": "markdown",
   "metadata": {
    "collapsed": true
   },
   "source": [
    "En la presente actividad simularemos y visualizaremos un sistema dinámico 2-dimensional simple. Para ello resolveremos una EDO numéricamente, utilizando el _método de Euler_. \n",
    "\n",
    "Consideremos un sistema de $N$ partículas $(x_i(t), y_i(t))$ en el dominio $[0,1]\\times[0,1]$, cuyo movimiento se rige por las siguientes ecuaciones (EDOs autónomas):\n",
    "\n",
    "\\begin{align}\n",
    "\\frac{dx}{dt} &= \\text{tanh}(x^2+y^2), \\text{ con } x(0)=x_0, \\\\\n",
    "\\frac{dy}{dt} &= \\text{tanh}(x^2+y^2), \\text{ con } y(0)=y_0 \\\\\n",
    "\\end{align}\n",
    "\n",
    "El _método de Euler_ para resolver este problema numéricamente, consiste en realizar la siguiente aproximación para la derivada:\n",
    "\n",
    "\\begin{align}\n",
    "\\frac{x_{i+1}-x_i}{\\Delta t} =  \\text{tanh}(x_i^2+y_i^2) \\rightarrow x_{i+1} = x_i + \\Delta t \\cdot \\text{tanh}(x_i^2+y_i^2) \\\\\n",
    "\\frac{y_{i+1}-y_i}{\\Delta t} =  \\text{tanh}(x_i^2+y_i^2) \\rightarrow y_{i+1} = y_i + \\Delta t \\cdot \\text{tanh}(x_i^2+y_i^2)\n",
    "\\end{align}\n",
    "\n",
    "ocupando las condiciones iniciales $x_0$ e $y_0$ como puntos de partida. Aquí $\\Delta t$ (_time step_) es un parámetro definido por usted, y usualmente toma valores pequeños.\n",
    "\n",
    "__Notar__ que esta ecuación es válida para una partícula, y por tanto para simular un sistema de $N$ de estas, es necesario realizar esta actualización para cada partícula $(x_i,y_i)$ con $i \\in [1,N]$.\n",
    "\n",
    "__Se solicita que realice lo siguiente__:\n",
    "1. Genere un conjunto de `100` puntos aleatoriamente distribuidos en el espacio $[0,1]\\times[0,1]$ (Seran usados como posiciones iniciales del sistema). Grafíque el conjunto de puntos obtenidos.\n",
    "2. Realizar un gráfico de la función que define el comportamiento del sistema: $f(z) = \\text{tanh}(z^2)$ (gráfico unidimensional).\n",
    "3. Desarrollar la función `simular(x0, y0, dt, tf)` que reciba los `np.ndarray` con las coordenadas iniciales `x0` e `y0` del sistema, el _time step_ `dt` (seleccione un valor pequeño $\\sim 0.01$) y el tiempo final de simulación. Esta función debe graficar el conjunto de puntos del sistema, en su tiempo final.\n",
    "4. Usando `interact` desarrolle un _widget_ para visualizar interactivamente distintos estados finales del sistema (distintos `tf`)."
   ]
  },
  {
   "cell_type": "code",
   "execution_count": 10,
   "metadata": {
    "collapsed": true
   },
   "outputs": [],
   "source": [
    "x = np.random.randn(10)\n",
    "y = np.random.randn(10)\n",
    "\n",
    "X,Y = np.meshgrid(x,y)"
   ]
  },
  {
   "cell_type": "code",
   "execution_count": 18,
   "metadata": {
    "collapsed": false
   },
   "outputs": [
    {
     "data": {
      "image/png": "[encoded data removed]",
      "text/plain": [
       "<matplotlib.figure.Figure at 0x7f6558ef9588>"
      ]
     },
     "metadata": {},
     "output_type": "display_data"
    }
   ],
   "source": [
    "plt.figure(figsize=(10,5))\n",
    "plt.scatter(X,Y, marker='*', color='red')\n",
    "plt.grid()\n",
    "plt.show()"
   ]
  },
  {
   "cell_type": "code",
   "execution_count": 22,
   "metadata": {
    "collapsed": true
   },
   "outputs": [],
   "source": [
    "def f(z):\n",
    "    return np.tanh(z**2)"
   ]
  },
  {
   "cell_type": "code",
   "execution_count": 37,
   "metadata": {
    "collapsed": false
   },
   "outputs": [
    {
     "data": {
      "image/png": "[encoded data removed]",
      "text/plain": [
       "<matplotlib.figure.Figure at 0x7f6558c14e10>"
      ]
     },
     "metadata": {},
     "output_type": "display_data"
    }
   ],
   "source": [
    "z = np.linspace(-3,3,20)\n",
    "plt.plot(z, f(z), 'o-')\n",
    "plt.grid()\n",
    "plt.show()"
   ]
  },
  {
   "cell_type": "code",
   "execution_count": 27,
   "metadata": {
    "collapsed": false
   },
   "outputs": [
    {
     "data": {
      "text/plain": [
       "array([], dtype=float64)"
      ]
     },
     "execution_count": 27,
     "metadata": {},
     "output_type": "execute_result"
    }
   ],
   "source": [
    "Z"
   ]
  },
  {
   "cell_type": "code",
   "execution_count": null,
   "metadata": {
    "collapsed": true
   },
   "outputs": [],
   "source": []
  }
 ],
 "metadata": {
  "kernelspec": {
   "display_name": "Python 3",
   "language": "python",
   "name": "python3"
  },
  "language_info": {
   "codemirror_mode": {
    "name": "ipython",
    "version": 3
   },
   "file_extension": ".py",
   "mimetype": "text/x-python",
   "name": "python",
   "nbconvert_exporter": "python",
   "pygments_lexer": "ipython3",
   "version": "3.6.0"
  }
 },
 "nbformat": 4,
 "nbformat_minor": 2
}
