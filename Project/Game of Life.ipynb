{
 "cells": [
  {
   "cell_type": "markdown",
   "metadata": {},
   "source": [
    "# Implementación"
   ]
  },
  {
   "cell_type": "code",
   "execution_count": 157,
   "metadata": {
    "collapsed": false
   },
   "outputs": [
    {
     "name": "stdout",
     "output_type": "stream",
     "text": [
      "The line_profiler extension is already loaded. To reload it, use:\n",
      "  %reload_ext line_profiler\n"
     ]
    }
   ],
   "source": [
    "import numpy as np\n",
    "import matplotlib.pyplot as plt\n",
    "from matplotlib import animation\n",
    "from ipywidgets import interact\n",
    "from ipywidgets import fixed\n",
    "%load_ext line_profiler\n",
    "%matplotlib inline"
   ]
  },
  {
   "cell_type": "code",
   "execution_count": 131,
   "metadata": {
    "collapsed": false
   },
   "outputs": [],
   "source": [
    "def search(cells, row, col):\n",
    "    alive = 0\n",
    "    limIzq = limSup = -1\n",
    "    limDer = limInf = 2\n",
    "    \n",
    "    if row == 0:\n",
    "        limIzq = 0\n",
    "    if col == 0:\n",
    "        limSup = 0\n",
    "    if row == N-1:\n",
    "        limDer = 1\n",
    "    if col == N-1:\n",
    "        limInf = 1\n",
    "    \n",
    "    for i in range(limIzq,limDer):\n",
    "        for j in range(limSup,limInf):\n",
    "            if (i,j) != (0,0):\n",
    "                if cells[row+i][col+j] == 1:\n",
    "                    alive+=1;\n",
    "    return(alive)"
   ]
  },
  {
   "cell_type": "code",
   "execution_count": 142,
   "metadata": {
    "collapsed": false
   },
   "outputs": [],
   "source": [
    "def iteration(original, iterations):\n",
    "    newCells = np.copy(original)\n",
    "    for k in range(iterations):\n",
    "        for i in range(newCells.shape[0]):\n",
    "            for j in range(newCells.shape[1]):\n",
    "                q = search(newCells, i,j)\n",
    "                if newCells[i][j] == 1:\n",
    "                    if q > 3:\n",
    "                        newCells[i][j] = 0\n",
    "                    elif q < 2:\n",
    "                        newCells[i][j] = 0\n",
    "                else:\n",
    "                    if q == 3:\n",
    "                        newCells[i][j] = 1\n",
    "    return(newCells)"
   ]
  },
  {
   "cell_type": "markdown",
   "metadata": {},
   "source": [
    "# Profiling"
   ]
  },
  {
   "cell_type": "code",
   "execution_count": 139,
   "metadata": {
    "collapsed": true
   },
   "outputs": [],
   "source": [
    "N = 15\n",
    "cells = np.random.randint(2, size =(N,N))"
   ]
  },
  {
   "cell_type": "code",
   "execution_count": 147,
   "metadata": {
    "collapsed": false
   },
   "outputs": [
    {
     "name": "stdout",
     "output_type": "stream",
     "text": [
      "1000 loops, best of 3: 1.38 ms per loop\n"
     ]
    }
   ],
   "source": [
    "%%timeit\n",
    "iteration(cells, 1)"
   ]
  },
  {
   "cell_type": "code",
   "execution_count": 150,
   "metadata": {
    "collapsed": false
   },
   "outputs": [
    {
     "name": "stdout",
     "output_type": "stream",
     "text": [
      "100 loops, best of 3: 12.9 ms per loop\n"
     ]
    }
   ],
   "source": [
    "%%timeit\n",
    "iteration(cells, 10)"
   ]
  },
  {
   "cell_type": "code",
   "execution_count": 149,
   "metadata": {
    "collapsed": false
   },
   "outputs": [
    {
     "name": "stdout",
     "output_type": "stream",
     "text": [
      "10 loops, best of 3: 128 ms per loop\n"
     ]
    }
   ],
   "source": [
    "%%timeit\n",
    "iteration(cells, 100)"
   ]
  },
  {
   "cell_type": "code",
   "execution_count": 153,
   "metadata": {
    "collapsed": false
   },
   "outputs": [
    {
     "name": "stdout",
     "output_type": "stream",
     "text": [
      " \n",
      "*** Profile printout saved to text file 'prun0'. \n"
     ]
    }
   ],
   "source": [
    "%%prun -s cumulative -q -l 15 -T prun0\n",
    "iteration(cells, 100)"
   ]
  },
  {
   "cell_type": "code",
   "execution_count": 154,
   "metadata": {
    "collapsed": false
   },
   "outputs": [
    {
     "name": "stdout",
     "output_type": "stream",
     "text": [
      "         22506 function calls in 0.158 seconds\n",
      "\n",
      "   Ordered by: cumulative time\n",
      "\n",
      "   ncalls  tottime  percall  cumtime  percall filename:lineno(function)\n",
      "        1    0.000    0.000    0.158    0.158 {built-in method builtins.exec}\n",
      "        1    0.000    0.000    0.157    0.157 <string>:2(<module>)\n",
      "        1    0.018    0.018    0.157    0.157 <ipython-input-142-382ef4f75294>:1(iteration)\n",
      "    22500    0.140    0.000    0.140    0.000 <ipython-input-131-7345bcf5cf58>:1(search)\n",
      "        1    0.000    0.000    0.000    0.000 function_base.py:1264(copy)\n",
      "        1    0.000    0.000    0.000    0.000 {built-in method numpy.core.multiarray.array}\n",
      "        1    0.000    0.000    0.000    0.000 {method 'disable' of '_lsprof.Profiler' objects}\n"
     ]
    }
   ],
   "source": [
    "print(open('prun0', 'r').read())"
   ]
  },
  {
   "cell_type": "code",
   "execution_count": 158,
   "metadata": {
    "collapsed": false
   },
   "outputs": [
    {
     "name": "stdout",
     "output_type": "stream",
     "text": [
      "\n",
      "*** Profile printout saved to text file 'lprof0'. \n"
     ]
    }
   ],
   "source": [
    "%lprun -T lprof0 -f iteration iteration(cells, 100)"
   ]
  },
  {
   "cell_type": "code",
   "execution_count": 159,
   "metadata": {
    "collapsed": false
   },
   "outputs": [
    {
     "name": "stdout",
     "output_type": "stream",
     "text": [
      "Timer unit: 1e-06 s\n",
      "\n",
      "Total time: 0.397714 s\n",
      "File: <ipython-input-142-382ef4f75294>\n",
      "Function: iteration at line 1\n",
      "\n",
      "Line #      Hits         Time  Per Hit   % Time  Line Contents\n",
      "==============================================================\n",
      "     1                                           def iteration(original, iterations):\n",
      "     2         1           33     33.0      0.0      newCells = np.copy(original)\n",
      "     3       101           47      0.5      0.0      for k in range(iterations):\n",
      "     4      1600          814      0.5      0.2          for i in range(newCells.shape[0]):\n",
      "     5     24000        11940      0.5      3.0              for j in range(newCells.shape[1]):\n",
      "     6     22500       347585     15.4     87.4                  q = search(newCells, i,j)\n",
      "     7     22500        20488      0.9      5.2                  if newCells[i][j] == 1:\n",
      "     8      6657         3229      0.5      0.8                      if q > 3:\n",
      "     9      1340         1103      0.8      0.3                          newCells[i][j] = 0\n",
      "    10      5317         2664      0.5      0.7                      elif q < 2:\n",
      "    11       808          640      0.8      0.2                          newCells[i][j] = 0\n",
      "    12                                                           else:\n",
      "    13     15843         7522      0.5      1.9                      if q == 3:\n",
      "    14      2120         1649      0.8      0.4                          newCells[i][j] = 1\n",
      "    15         1            0      0.0      0.0      return(newCells)\n"
     ]
    }
   ],
   "source": [
    "print(open('lprof0', 'r').read())"
   ]
  },
  {
   "cell_type": "markdown",
   "metadata": {},
   "source": [
    "# Visualización"
   ]
  },
  {
   "cell_type": "code",
   "execution_count": 145,
   "metadata": {
    "collapsed": true
   },
   "outputs": [],
   "source": [
    "def visualization(original, it):\n",
    "    newCells = iteration(original, it)\n",
    "    plt.imshow(newCells, interpolation=None)\n",
    "    plt.show()"
   ]
  },
  {
   "cell_type": "code",
   "execution_count": 160,
   "metadata": {
    "collapsed": false
   },
   "outputs": [
    {
     "data": {
      "image/png": "[encoded data removed]",
      "text/plain": [
       "<matplotlib.figure.Figure at 0x7f1e92f406a0>"
      ]
     },
     "metadata": {},
     "output_type": "display_data"
    }
   ],
   "source": [
    "interact(visualization, original=fixed(cells), it = (0,100,1))"
   ]
  },
  {
   "cell_type": "code",
   "execution_count": null,
   "metadata": {
    "collapsed": true
   },
   "outputs": [],
   "source": []
  }
 ],
 "metadata": {
  "kernelspec": {
   "display_name": "Python 3",
   "language": "python",
   "name": "python3"
  },
  "language_info": {
   "codemirror_mode": {
    "name": "ipython",
    "version": 3
   },
   "file_extension": ".py",
   "mimetype": "text/x-python",
   "name": "python",
   "nbconvert_exporter": "python",
   "pygments_lexer": "ipython3",
   "version": "3.6.0"
  },
  "widgets": {
   "state": {
    "60f9618bc6fd4fd2943dde55ecde9f84": {
     "views": [
      {
       "cell_index": 15
      }
     ]
    }
   },
   "version": "1.2.0"
  }
 },
 "nbformat": 4,
 "nbformat_minor": 2
}
