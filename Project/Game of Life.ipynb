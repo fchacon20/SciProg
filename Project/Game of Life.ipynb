{
 "cells": [
  {
   "cell_type": "markdown",
   "metadata": {},
   "source": [
    "# Implementación"
   ]
  },
  {
   "cell_type": "markdown",
   "metadata": {},
   "source": [
    "* Sobrepoblación: Si una célula viva es rodeada por más de tres células vivas, muere.\n",
    "* Estasis: Si una célula viva es rodeada por dos o tres células vivas, sobrevive.\n",
    "* Subpoblación: Si una célula viva es rodeada por menos de dos células vivas, muere.\n",
    "* Reproduction: Si una célula muerta es rodeada por exáctamente tres células vivas, esta se vuelve una célula viva."
   ]
  },
  {
   "cell_type": "code",
   "execution_count": 1,
   "metadata": {
    "collapsed": false
   },
   "outputs": [],
   "source": [
    "import numpy as np\n",
    "import matplotlib.pyplot as plt\n",
    "from matplotlib import animation\n",
    "from ipywidgets import interact\n",
    "from ipywidgets import fixed\n",
    "import numba\n",
    "%load_ext line_profiler\n",
    "%matplotlib inline"
   ]
  },
  {
   "cell_type": "code",
   "execution_count": 53,
   "metadata": {
    "collapsed": false
   },
   "outputs": [],
   "source": [
    "#@numba.jit\n",
    "def search(cells, row, col):\n",
    "    Nx = cells.shape[0]\n",
    "    Ny = cells.shape[1]\n",
    "    alive = 0\n",
    "    limIzq = limSup = -1\n",
    "    limDer = limInf = 2\n",
    "    \n",
    "    #Condiciones de borde\n",
    "    if row == 0:\n",
    "        limIzq = 0\n",
    "    if col == 0:\n",
    "        limSup = 0\n",
    "    if row == Nx-1:\n",
    "        limDer = 1\n",
    "    if col == Ny-1:\n",
    "        limInf = 1\n",
    "\n",
    "    #Búsqueda en la vecindad de la célula\n",
    "    for i in range(limIzq,limDer):\n",
    "        for j in range(limSup,limInf):\n",
    "            if (i,j) != (0,0):\n",
    "                if cells[row+i][col+j] == 1:\n",
    "                    alive+=1;\n",
    "    return(alive)"
   ]
  },
  {
   "cell_type": "code",
   "execution_count": 54,
   "metadata": {
    "collapsed": false
   },
   "outputs": [],
   "source": [
    "def iteration(original, iterations):\n",
    "    \n",
    "    #Primera llamada a la función\n",
    "    if len(solutions) == 0:\n",
    "        solutions.append(original)\n",
    "        \n",
    "    #Último estado    \n",
    "    newCells = solutions[-1]\n",
    "    \n",
    "    #Creación de un espacio sin células\n",
    "    newGeneration = np.zeros(newCells.shape, dtype=np.int)\n",
    "    \n",
    "    #Si no se ha realizado la iteración\n",
    "    if len(solutions) <= iterations:\n",
    "        for k in range(len(solutions)-1, iterations):\n",
    "            for i in range(0, newCells.shape[0]):\n",
    "                for j in range(0, newCells.shape[1]):\n",
    "                    q = search(newCells, i, j)\n",
    "                    if newCells[i][j] == 1:\n",
    "                        if q > 3:\n",
    "                            newGeneration[i][j] = 0\n",
    "                        elif q < 2:\n",
    "                            newGeneration[i][j] = 0\n",
    "                        else:\n",
    "                            newGeneration[i][j] = 1\n",
    "                    else:\n",
    "                        if q == 3:\n",
    "                            newGeneration[i][j] = 1\n",
    "            solutions.append(newGeneration)\n",
    "            newCells = solutions[-1]\n",
    "            newGeneration = np.zeros(newCells.shape, dtype=np.int)\n",
    "        return(newCells)\n",
    "    \n",
    "    #Si la iteración ya fue realizada anteriormente\n",
    "    else:\n",
    "        return solutions[iterations]\n"
   ]
  },
  {
   "cell_type": "markdown",
   "metadata": {},
   "source": [
    "# Profiling"
   ]
  },
  {
   "cell_type": "code",
   "execution_count": 34,
   "metadata": {
    "collapsed": true
   },
   "outputs": [],
   "source": [
    "N = 500\n",
    "cells = np.random.randint(2, size =(N,N))"
   ]
  },
  {
   "cell_type": "code",
   "execution_count": 35,
   "metadata": {
    "collapsed": false
   },
   "outputs": [
    {
     "name": "stdout",
     "output_type": "stream",
     "text": [
      "1000 loops, best of 3: 430 µs per loop\n"
     ]
    }
   ],
   "source": [
    "%%timeit\n",
    "solutions = []\n",
    "iteration(cells, 1)"
   ]
  },
  {
   "cell_type": "code",
   "execution_count": 36,
   "metadata": {
    "collapsed": false
   },
   "outputs": [
    {
     "name": "stdout",
     "output_type": "stream",
     "text": [
      "1000 loops, best of 3: 474 µs per loop\n"
     ]
    }
   ],
   "source": [
    "%%timeit\n",
    "solutions = []\n",
    "iteration(cells, 10)"
   ]
  },
  {
   "cell_type": "code",
   "execution_count": 37,
   "metadata": {
    "collapsed": false
   },
   "outputs": [
    {
     "name": "stdout",
     "output_type": "stream",
     "text": [
      "The slowest run took 93884.60 times longer than the fastest. This could mean that an intermediate result is being cached.\n",
      "1 loop, best of 3: 442 µs per loop\n"
     ]
    }
   ],
   "source": [
    "%%timeit\n",
    "solutions = []\n",
    "iteration(cells, 100)"
   ]
  },
  {
   "cell_type": "code",
   "execution_count": 57,
   "metadata": {
    "collapsed": true
   },
   "outputs": [],
   "source": [
    "solutions = []"
   ]
  },
  {
   "cell_type": "code",
   "execution_count": 58,
   "metadata": {
    "collapsed": false
   },
   "outputs": [
    {
     "name": "stdout",
     "output_type": "stream",
     "text": [
      " \n",
      "*** Profile printout saved to text file 'prun0'. \n"
     ]
    }
   ],
   "source": [
    "%%prun -s cumulative -q -l 15 -T prun0\n",
    "iteration(cells, 100)"
   ]
  },
  {
   "cell_type": "code",
   "execution_count": 59,
   "metadata": {
    "collapsed": false
   },
   "outputs": [
    {
     "name": "stdout",
     "output_type": "stream",
     "text": [
      "         25000209 function calls in 167.700 seconds\n",
      "\n",
      "   Ordered by: cumulative time\n",
      "\n",
      "   ncalls  tottime  percall  cumtime  percall filename:lineno(function)\n",
      "        1    0.000    0.000  167.700  167.700 {built-in method builtins.exec}\n",
      "        1    0.000    0.000  167.700  167.700 <string>:2(<module>)\n",
      "        1   16.898   16.898  167.700  167.700 <ipython-input-54-f7f9fbc11614>:1(iteration)\n",
      " 25000000  150.787    0.000  150.787    0.000 <ipython-input-53-b8aa3d259e34>:2(search)\n",
      "      101    0.014    0.000    0.014    0.000 {built-in method numpy.core.multiarray.zeros}\n",
      "      101    0.000    0.000    0.000    0.000 {method 'append' of 'list' objects}\n",
      "        3    0.000    0.000    0.000    0.000 {built-in method builtins.len}\n",
      "        1    0.000    0.000    0.000    0.000 {method 'disable' of '_lsprof.Profiler' objects}\n"
     ]
    }
   ],
   "source": [
    "print(open('prun0', 'r').read())"
   ]
  },
  {
   "cell_type": "code",
   "execution_count": 62,
   "metadata": {
    "collapsed": true
   },
   "outputs": [],
   "source": [
    "solutions = []"
   ]
  },
  {
   "cell_type": "code",
   "execution_count": 63,
   "metadata": {
    "collapsed": false
   },
   "outputs": [
    {
     "name": "stdout",
     "output_type": "stream",
     "text": [
      "*** KeyboardInterrupt exception caught in code being profiled.\n",
      "*** Profile printout saved to text file 'lprof0'. *** KeyboardInterrupt exception caught in code being profiled.\n"
     ]
    }
   ],
   "source": [
    "%lprun -T lprof0 -f iteration iteration(cells, 100)"
   ]
  },
  {
   "cell_type": "code",
   "execution_count": 61,
   "metadata": {
    "collapsed": false
   },
   "outputs": [
    {
     "name": "stdout",
     "output_type": "stream",
     "text": [
      "Timer unit: 1e-06 s\n",
      "\n",
      "Total time: 0.000419 s\n",
      "File: <ipython-input-54-f7f9fbc11614>\n",
      "Function: iteration at line 1\n",
      "\n",
      "Line #      Hits         Time  Per Hit   % Time  Line Contents\n",
      "==============================================================\n",
      "     1                                           def iteration(original, iterations):\n",
      "     2                                               \n",
      "     3                                               #Primera llamada a la función\n",
      "     4         1            9      9.0      2.1      if len(solutions) == 0:\n",
      "     5                                                   solutions.append(original)\n",
      "     6                                                   \n",
      "     7                                               #Último estado    \n",
      "     8         1            6      6.0      1.4      newCells = solutions[-1]\n",
      "     9                                               \n",
      "    10                                               #Creación de un espacio sin células\n",
      "    11         1          392    392.0     93.6      newGeneration = np.zeros(newCells.shape, dtype=np.int)\n",
      "    12                                               \n",
      "    13                                               #Si no se ha realizado la iteración\n",
      "    14         1            8      8.0      1.9      if len(solutions) <= iterations:\n",
      "    15                                                   for k in range(len(solutions)-1, iterations):\n",
      "    16                                                       for i in range(0, newCells.shape[0]):\n",
      "    17                                                           for j in range(0, newCells.shape[1]):\n",
      "    18                                                               q = search(newCells, i, j)\n",
      "    19                                                               if newCells[i][j] == 1:\n",
      "    20                                                                   if q > 3:\n",
      "    21                                                                       newGeneration[i][j] = 0\n",
      "    22                                                                   elif q < 2:\n",
      "    23                                                                       newGeneration[i][j] = 0\n",
      "    24                                                                   else:\n",
      "    25                                                                       newGeneration[i][j] = 1\n",
      "    26                                                               else:\n",
      "    27                                                                   if q == 3:\n",
      "    28                                                                       newGeneration[i][j] = 1\n",
      "    29                                                       solutions.append(newGeneration)\n",
      "    30                                                       newCells = solutions[-1]\n",
      "    31                                                       newGeneration = np.zeros(newCells.shape, dtype=np.int)\n",
      "    32                                                   return(newCells)\n",
      "    33                                               \n",
      "    34                                               #Si la iteración ya fue realizada anteriormente\n",
      "    35                                               else:\n",
      "    36         1            4      4.0      1.0          return solutions[iterations]\n"
     ]
    }
   ],
   "source": [
    "print(open('lprof0', 'r').read())"
   ]
  },
  {
   "cell_type": "markdown",
   "metadata": {},
   "source": [
    "La creación de un array de ceros es lo más costoso en las funciones creadas"
   ]
  },
  {
   "cell_type": "markdown",
   "metadata": {},
   "source": [
    "# Visualización"
   ]
  },
  {
   "cell_type": "code",
   "execution_count": 43,
   "metadata": {
    "collapsed": true
   },
   "outputs": [],
   "source": [
    "def visualization(original, it):\n",
    "    cells = iteration(original, it)\n",
    "    fig = plt.figure(figsize=(6, 6), dpi=100)\n",
    "    plt.imshow(cells, interpolation=None, cmap='inferno')\n",
    "    plt.show()"
   ]
  },
  {
   "cell_type": "code",
   "execution_count": 44,
   "metadata": {
    "collapsed": true
   },
   "outputs": [],
   "source": [
    "cellsDic = dict()"
   ]
  },
  {
   "cell_type": "code",
   "execution_count": 45,
   "metadata": {
    "collapsed": false
   },
   "outputs": [],
   "source": [
    "#Interesting patterns\n",
    "aux = np.array([[0,0,0,0,0,0,0,0,0,0,0,0,0,0,0,0,0,0,0,0,0,0,0,0,0,0],\n",
    "                [0,0,0,0,0,0,1,1,0,0,0,0,1,1,0,0,0,0,0,0,0,0,0,0,0,0],\n",
    "                [0,1,1,0,0,1,0,0,1,0,0,1,0,0,1,0,0,1,1,0,0,0,0,1,0,0],\n",
    "                [0,1,1,0,0,0,1,1,0,0,0,0,1,0,1,0,0,1,0,1,0,0,1,0,1,0],\n",
    "                [0,0,0,0,0,0,0,0,0,0,0,0,0,1,0,0,0,0,1,0,0,0,0,1,0,0],\n",
    "                [0,0,0,0,0,0,0,0,0,0,0,0,0,0,0,0,0,0,0,0,0,0,0,0,0,0]], np.int)\n",
    "cellsDic[\"forever\"] = aux\n",
    "cellsDic[\"pulsar\"] = np.array([[0,0,0,0,0,0,0,0,0,0,0,0,0,0,0,0,0],\n",
    "                               [0,0,0,0,0,1,0,0,0,0,0,1,0,0,0,0,0],\n",
    "                               [0,0,0,0,0,1,0,0,0,0,0,1,0,0,0,0,0],\n",
    "                               [0,0,0,0,0,1,1,0,0,0,1,1,0,0,0,0,0],\n",
    "                               [0,0,0,0,0,0,0,0,0,0,0,0,0,0,0,0,0],\n",
    "                               [0,1,1,1,0,0,1,1,0,1,1,0,0,1,1,1,0],\n",
    "                               [0,0,0,1,0,1,0,1,0,1,0,1,0,1,0,0,0],\n",
    "                               [0,0,0,0,0,1,1,0,0,0,1,1,0,0,0,0,0],\n",
    "                               [0,0,0,0,0,0,0,0,0,0,0,0,0,0,0,0,0],\n",
    "                               [0,0,0,0,0,1,1,0,0,0,1,1,0,0,0,0,0],\n",
    "                               [0,0,0,1,0,1,0,1,0,1,0,1,0,1,0,0,0],\n",
    "                               [0,1,1,1,0,0,1,1,0,1,1,0,0,1,1,1,0],\n",
    "                               [0,0,0,0,0,0,0,0,0,0,0,0,0,0,0,0,0],\n",
    "                               [0,0,0,0,0,1,1,0,0,0,1,1,0,0,0,0,0],\n",
    "                               [0,0,0,0,0,1,0,0,0,0,0,1,0,0,0,0,0],\n",
    "                               [0,0,0,0,0,1,0,0,0,0,0,1,0,0,0,0,0],\n",
    "                               [0,0,0,0,0,0,0,0,0,0,0,0,0,0,0,0,0]], np.int)\n",
    "aux = np.zeros(shape=(20,20), dtype=int)\n",
    "aux[1][1] = aux[1][3] = aux[2][2] = aux[2][3] = aux[3][2] = 1\n",
    "\n",
    "cellsDic[\"spaceship\"] = aux"
   ]
  },
  {
   "cell_type": "markdown",
   "metadata": {},
   "source": [
    "A continuación, hay un ejemplo donde un número aleatorio de células se encuentran en una caja de 500x500, se puede observar como se comportan en cada iteración que se realiza."
   ]
  },
  {
   "cell_type": "code",
   "execution_count": 46,
   "metadata": {
    "collapsed": false
   },
   "outputs": [],
   "source": [
    "N = 500\n",
    "cellsDic[\"random\"] = np.random.randint(2, size =(N,N))"
   ]
  },
  {
   "cell_type": "code",
   "execution_count": 50,
   "metadata": {
    "collapsed": false,
    "scrolled": false
   },
   "outputs": [
    {
     "data": {
      "image/png": "[encoded data removed]",
      "text/plain": [
       "<matplotlib.figure.Figure at 0x7f19b4474b00>"
      ]
     },
     "metadata": {},
     "output_type": "display_data"
    }
   ],
   "source": [
    "solutions=[]\n",
    "interact(visualization, original=fixed(cellsDic[\"random\"]), it = (0,100,1))"
   ]
  },
  {
   "cell_type": "markdown",
   "metadata": {},
   "source": [
    "En un comienzo, se observa que gran parte del espacio se encuentra utilizado por las células, las que rápidamente mueren, posiblemente por sobrepolación, decantando en un estado más estable de interacción."
   ]
  },
  {
   "cell_type": "markdown",
   "metadata": {},
   "source": [
    "Existen patrones que son estáticos y que no variarán en el tiempo. Algunos ejemplos son los que se muestran a continuación."
   ]
  },
  {
   "cell_type": "code",
   "execution_count": 48,
   "metadata": {
    "collapsed": false
   },
   "outputs": [
    {
     "data": {
      "image/png": "[encoded data removed]",
      "text/plain": [
       "<matplotlib.figure.Figure at 0x7f19b4194f98>"
      ]
     },
     "metadata": {},
     "output_type": "display_data"
    },
    {
     "data": {
      "text/plain": [
       "<function __main__.visualization>"
      ]
     },
     "execution_count": 48,
     "metadata": {},
     "output_type": "execute_result"
    }
   ],
   "source": [
    "solutions=[]\n",
    "interact(visualization, original=fixed(cellsDic[\"forever\"]), it = (0,100,1))"
   ]
  },
  {
   "cell_type": "markdown",
   "metadata": {},
   "source": [
    "Además, hay patrones que simulan objetos, como una nave espacial que se mueve en el espacio, patrón que va alternando entre su forma original y otras utilizadas para desplazarse a medida que se mueve en el espacio."
   ]
  },
  {
   "cell_type": "code",
   "execution_count": 49,
   "metadata": {
    "collapsed": false
   },
   "outputs": [
    {
     "data": {
      "image/png": "[encoded data removed]",
      "text/plain": [
       "<matplotlib.figure.Figure at 0x7f19b4474b70>"
      ]
     },
     "metadata": {},
     "output_type": "display_data"
    }
   ],
   "source": [
    "solutions=[]\n",
    "interact(visualization, original=fixed(cellsDic[\"spaceship\"]), it = (0,100,1))"
   ]
  },
  {
   "cell_type": "code",
   "execution_count": null,
   "metadata": {
    "collapsed": true
   },
   "outputs": [],
   "source": []
  }
 ],
 "metadata": {
  "kernelspec": {
   "display_name": "Python 3",
   "language": "python",
   "name": "python3"
  },
  "language_info": {
   "codemirror_mode": {
    "name": "ipython",
    "version": 3
   },
   "file_extension": ".py",
   "mimetype": "text/x-python",
   "name": "python",
   "nbconvert_exporter": "python",
   "pygments_lexer": "ipython3",
   "version": "3.6.0"
  },
  "widgets": {
   "state": {
    "720b9c4cf7e64bb09f03b34dfffa9e9d": {
     "views": [
      {
       "cell_index": 20
      }
     ]
    },
    "ae46031228eb4c11bdd45a888639155a": {
     "views": [
      {
       "cell_index": 20
      }
     ]
    },
    "e54b897092a74b37bd75c3e91c70cf1f": {
     "views": [
      {
       "cell_index": 21
      }
     ]
    }
   },
   "version": "1.2.0"
  }
 },
 "nbformat": 4,
 "nbformat_minor": 2
}
