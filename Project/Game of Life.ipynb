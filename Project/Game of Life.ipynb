{
 "cells": [
  {
   "cell_type": "markdown",
   "metadata": {},
   "source": [
    "# Implementación"
   ]
  },
  {
   "cell_type": "markdown",
   "metadata": {},
   "source": [
    "* Sobrepoblación: Si una célula viva es rodeada por más de tres células vivas, muere.\n",
    "* Estasis: Si una célula viva es rodeada por dos o tres células vivas, sobrevive.\n",
    "* Subpoblación: Si una célula viva es rodeada por menos de dos células vivas, muere.\n",
    "* Reproduction: Si una célula muerta es rodeada por exáctamente tres células vivas, esta se vuelve una célula viva."
   ]
  },
  {
   "cell_type": "code",
   "execution_count": 1,
   "metadata": {
    "collapsed": false
   },
   "outputs": [],
   "source": [
    "import numpy as np\n",
    "import matplotlib.pyplot as plt\n",
    "from matplotlib import animation\n",
    "from ipywidgets import interact\n",
    "from ipywidgets import fixed\n",
    "import numba\n",
    "%load_ext line_profiler\n",
    "%matplotlib inline"
   ]
  },
  {
   "cell_type": "code",
   "execution_count": 2,
   "metadata": {
    "collapsed": false
   },
   "outputs": [],
   "source": [
    "@numba.jit\n",
    "def search(cells, row, col):\n",
    "    alive = 0\n",
    "    limIzq = limSup = -1\n",
    "    limDer = limInf = 2\n",
    "    \n",
    "    if row == 0:\n",
    "        limIzq = 0\n",
    "    if col == 0:\n",
    "        limSup = 0\n",
    "    if row == N-1:\n",
    "        limDer = 1\n",
    "    if col == N-1:\n",
    "        limInf = 1\n",
    "    \n",
    "    for i in range(limIzq,limDer):\n",
    "        for j in range(limSup,limInf):\n",
    "            if (i,j) != (0,0):\n",
    "                if cells[row+i][col+j] == 1:\n",
    "                    alive+=1;\n",
    "    return(alive)"
   ]
  },
  {
   "cell_type": "code",
   "execution_count": 11,
   "metadata": {
    "collapsed": false
   },
   "outputs": [],
   "source": [
    "def iteration(original, iterations):\n",
    "    \n",
    "    if len(solutions) == 0:\n",
    "        solutions.append(original)\n",
    "        \n",
    "    newCells = np.copy(solutions[-1])\n",
    "    newGeneration = np.zeros(newCells.shape)\n",
    "    \n",
    "    if len(solutions) <= iterations:\n",
    "        for k in range(len(solutions), iterations):\n",
    "            for i in range(newCells.shape[0]):\n",
    "                for j in range(newCells.shape[1]):\n",
    "                    q = search(newCells, i, j)\n",
    "                    if newCells[i][j] == 1:\n",
    "                        if q > 3:\n",
    "                            newGeneration[i][j] = 0\n",
    "                        elif q < 2:\n",
    "                            newGeneration[i][j] = 0\n",
    "                        else:\n",
    "                            newGeneration[i][j] = 1\n",
    "                    else:\n",
    "                        if q == 3:\n",
    "                            newGeneration[i][j] = 1\n",
    "            solutions.append(newGeneration)\n",
    "            newCells = np.copy(newGeneration)\n",
    "            newGeneration = np.zeros(newCells.shape)\n",
    "        return(newCells)\n",
    "    \n",
    "    else:\n",
    "        return solutions[iterations]\n"
   ]
  },
  {
   "cell_type": "markdown",
   "metadata": {},
   "source": [
    "# Profiling"
   ]
  },
  {
   "cell_type": "code",
   "execution_count": 31,
   "metadata": {
    "collapsed": true
   },
   "outputs": [],
   "source": [
    "N = 10\n",
    "cells = np.random.randint(2, size =(N,N))"
   ]
  },
  {
   "cell_type": "code",
   "execution_count": 5,
   "metadata": {
    "collapsed": false
   },
   "outputs": [
    {
     "name": "stdout",
     "output_type": "stream",
     "text": [
      "The slowest run took 1601.44 times longer than the fastest. This could mean that an intermediate result is being cached.\n",
      "1 loop, best of 3: 422 µs per loop\n"
     ]
    }
   ],
   "source": [
    "%%timeit\n",
    "iteration(cells, 1)"
   ]
  },
  {
   "cell_type": "code",
   "execution_count": 6,
   "metadata": {
    "collapsed": false
   },
   "outputs": [
    {
     "name": "stdout",
     "output_type": "stream",
     "text": [
      "100 loops, best of 3: 4.08 ms per loop\n"
     ]
    }
   ],
   "source": [
    "%%timeit\n",
    "iteration(cells, 10)"
   ]
  },
  {
   "cell_type": "code",
   "execution_count": 7,
   "metadata": {
    "collapsed": false
   },
   "outputs": [
    {
     "name": "stdout",
     "output_type": "stream",
     "text": [
      "10 loops, best of 3: 39.9 ms per loop\n"
     ]
    }
   ],
   "source": [
    "%%timeit\n",
    "iteration(cells, 100)"
   ]
  },
  {
   "cell_type": "code",
   "execution_count": 8,
   "metadata": {
    "collapsed": false
   },
   "outputs": [
    {
     "name": "stdout",
     "output_type": "stream",
     "text": [
      " \n",
      "*** Profile printout saved to text file 'prun0'. \n"
     ]
    }
   ],
   "source": [
    "%%prun -s cumulative -q -l 15 -T prun0\n",
    "iteration(cells, 100)"
   ]
  },
  {
   "cell_type": "code",
   "execution_count": 9,
   "metadata": {
    "collapsed": false
   },
   "outputs": [
    {
     "name": "stdout",
     "output_type": "stream",
     "text": [
      "         40007 function calls in 0.111 seconds\n",
      "\n",
      "   Ordered by: cumulative time\n",
      "\n",
      "   ncalls  tottime  percall  cumtime  percall filename:lineno(function)\n",
      "        1    0.000    0.000    0.111    0.111 {built-in method builtins.exec}\n",
      "        1    0.000    0.000    0.111    0.111 <string>:2(<module>)\n",
      "        1    0.097    0.097    0.111    0.111 <ipython-input-3-14fb54256f8b>:1(iteration)\n",
      "    40000    0.014    0.000    0.014    0.000 <ipython-input-2-f678187862dd>:1(search)\n",
      "        1    0.000    0.000    0.000    0.000 {built-in method numpy.core.multiarray.zeros}\n",
      "        1    0.000    0.000    0.000    0.000 function_base.py:1264(copy)\n",
      "        1    0.000    0.000    0.000    0.000 {built-in method numpy.core.multiarray.array}\n",
      "        1    0.000    0.000    0.000    0.000 {method 'disable' of '_lsprof.Profiler' objects}\n"
     ]
    }
   ],
   "source": [
    "print(open('prun0', 'r').read())"
   ]
  },
  {
   "cell_type": "code",
   "execution_count": 10,
   "metadata": {
    "collapsed": false
   },
   "outputs": [
    {
     "name": "stdout",
     "output_type": "stream",
     "text": [
      "\n",
      "*** Profile printout saved to text file 'lprof0'. \n"
     ]
    }
   ],
   "source": [
    "%lprun -T lprof0 -f iteration iteration(cells, 100)"
   ]
  },
  {
   "cell_type": "code",
   "execution_count": 11,
   "metadata": {
    "collapsed": false
   },
   "outputs": [
    {
     "name": "stdout",
     "output_type": "stream",
     "text": [
      "Timer unit: 1e-06 s\n",
      "\n",
      "Total time: 0.203909 s\n",
      "File: <ipython-input-3-14fb54256f8b>\n",
      "Function: iteration at line 1\n",
      "\n",
      "Line #      Hits         Time  Per Hit   % Time  Line Contents\n",
      "==============================================================\n",
      "     1                                           def iteration(original, iterations):\n",
      "     2         1           61     61.0      0.0      newCells = np.copy(original)\n",
      "     3         1           14     14.0      0.0      newGeneration = np.zeros(newCells.shape)\n",
      "     4       101           81      0.8      0.0      for k in range(iterations):\n",
      "     5                                                   \n",
      "     6                                                   #error aca\n",
      "     7       100           70      0.7      0.0          newGeneration = newCells\n",
      "     8                                                   \n",
      "     9      2100         1499      0.7      0.7          for i in range(newCells.shape[0]):\n",
      "    10     42000        30196      0.7     14.8              for j in range(newCells.shape[1]):\n",
      "    11     40000        57709      1.4     28.3                  q = search(newCells, i,j)\n",
      "    12     40000        55455      1.4     27.2                  if newGeneration[i][j] == 1:\n",
      "    13     15610        11199      0.7      5.5                      if q > 3:\n",
      "    14      2639         3085      1.2      1.5                          newGeneration[i][j] = 0\n",
      "    15     12971         8823      0.7      4.3                      elif q < 2:\n",
      "    16      1615         2107      1.3      1.0                          newGeneration[i][j] = 0\n",
      "    17                                                               else:\n",
      "    18     11356        12015      1.1      5.9                          newGeneration[i][j] = 1\n",
      "    19                                                           else:\n",
      "    20     24390        17066      0.7      8.4                      if q == 3:\n",
      "    21      4162         4463      1.1      2.2                          newGeneration[i][j] = 1\n",
      "    22       100           64      0.6      0.0          newCells = newGeneration\n",
      "    23                                                   \n",
      "    24         1            2      2.0      0.0      return(newCells)\n"
     ]
    }
   ],
   "source": [
    "print(open('lprof0', 'r').read())"
   ]
  },
  {
   "cell_type": "markdown",
   "metadata": {},
   "source": [
    "# Visualización"
   ]
  },
  {
   "cell_type": "code",
   "execution_count": 4,
   "metadata": {
    "collapsed": true
   },
   "outputs": [],
   "source": [
    "def visualization(original, it):\n",
    "    newCells = iteration(original, it)\n",
    "    plt.imshow(newCells, interpolation=None)\n",
    "    plt.show()"
   ]
  },
  {
   "cell_type": "code",
   "execution_count": 13,
   "metadata": {
    "collapsed": true
   },
   "outputs": [],
   "source": [
    "N = 20\n",
    "cells = np.random.randint(2, size =(N,N))\n",
    "solutions = []"
   ]
  },
  {
   "cell_type": "code",
   "execution_count": 14,
   "metadata": {
    "collapsed": false
   },
   "outputs": [
    {
     "data": {
      "image/png": "[encoded data removed]",
      "text/plain": [
       "<matplotlib.figure.Figure at 0x7f7173922b00>"
      ]
     },
     "metadata": {},
     "output_type": "display_data"
    }
   ],
   "source": [
    "interact(visualization, original=fixed(cells), it = (0,100,1))"
   ]
  },
  {
   "cell_type": "code",
   "execution_count": 10,
   "metadata": {
    "collapsed": false
   },
   "outputs": [
    {
     "data": {
      "text/plain": [
       "array([[0, 0, 0, 1, 0, 1, 0, 1, 1, 0],\n",
       "       [1, 0, 1, 0, 1, 0, 0, 0, 1, 0],\n",
       "       [0, 0, 1, 0, 0, 0, 1, 0, 1, 0],\n",
       "       [1, 0, 1, 1, 1, 0, 0, 0, 1, 0],\n",
       "       [1, 1, 0, 1, 0, 0, 1, 0, 1, 1],\n",
       "       [0, 1, 0, 1, 1, 0, 1, 1, 1, 1],\n",
       "       [0, 0, 1, 0, 0, 1, 1, 1, 0, 1],\n",
       "       [1, 1, 0, 1, 0, 0, 1, 0, 0, 0],\n",
       "       [1, 1, 1, 1, 1, 0, 0, 0, 1, 0],\n",
       "       [1, 1, 0, 0, 1, 1, 1, 0, 0, 0]])"
      ]
     },
     "execution_count": 10,
     "metadata": {},
     "output_type": "execute_result"
    }
   ],
   "source": [
    "cells"
   ]
  },
  {
   "cell_type": "code",
   "execution_count": 9,
   "metadata": {
    "collapsed": false
   },
   "outputs": [
    {
     "data": {
      "text/plain": [
       "array([[0, 0, 0, 1, 0, 1, 0, 1, 1, 0],\n",
       "       [1, 0, 1, 0, 1, 0, 0, 0, 1, 0],\n",
       "       [0, 0, 1, 0, 0, 0, 1, 0, 1, 0],\n",
       "       [1, 0, 1, 1, 1, 0, 0, 0, 1, 0],\n",
       "       [1, 1, 0, 1, 0, 0, 1, 0, 1, 1],\n",
       "       [0, 1, 0, 1, 1, 0, 1, 1, 1, 1],\n",
       "       [0, 0, 1, 0, 0, 1, 1, 1, 0, 1],\n",
       "       [1, 1, 0, 1, 0, 0, 1, 0, 0, 0],\n",
       "       [1, 1, 1, 1, 1, 0, 0, 0, 1, 0],\n",
       "       [1, 1, 0, 0, 1, 1, 1, 0, 0, 0]])"
      ]
     },
     "execution_count": 9,
     "metadata": {},
     "output_type": "execute_result"
    }
   ],
   "source": [
    "solutions[0]"
   ]
  },
  {
   "cell_type": "code",
   "execution_count": null,
   "metadata": {
    "collapsed": true
   },
   "outputs": [],
   "source": []
  }
 ],
 "metadata": {
  "kernelspec": {
   "display_name": "Python 3",
   "language": "python",
   "name": "python3"
  },
  "language_info": {
   "codemirror_mode": {
    "name": "ipython",
    "version": 3
   },
   "file_extension": ".py",
   "mimetype": "text/x-python",
   "name": "python",
   "nbconvert_exporter": "python",
   "pygments_lexer": "ipython3",
   "version": "3.6.0"
  },
  "widgets": {
   "state": {
    "49983845f1244b2ca79d9ab427b5a114": {
     "views": [
      {
       "cell_index": 17
      }
     ]
    }
   },
   "version": "1.2.0"
  }
 },
 "nbformat": 4,
 "nbformat_minor": 2
}
