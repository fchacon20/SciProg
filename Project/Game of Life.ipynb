{
 "cells": [
  {
   "cell_type": "markdown",
   "metadata": {},
   "source": [
    "<center>\n",
    "    <h1> Programación Científica</h1>\n",
    "    <h2> Cellular Automaton: Conway's Game of Life </h2>\n",
    "    <h2> Felipe Chacón Ossa </h2>\n",
    "    <h2> 201303017-3 </h2>\n",
    "</center>\n",
    "\n",
    "_Julio 2017_"
   ]
  },
  {
   "cell_type": "markdown",
   "metadata": {},
   "source": [
    "# Implementación"
   ]
  },
  {
   "cell_type": "markdown",
   "metadata": {},
   "source": [
    "Reglas\n",
    "\n",
    "* Sobrepoblación: Si una célula viva es rodeada por más de tres células vivas, muere.\n",
    "* Estasis: Si una célula viva es rodeada por dos o tres células vivas, sobrevive.\n",
    "* Subpoblación: Si una célula viva es rodeada por menos de dos células vivas, muere.\n",
    "* Reproduction: Si una célula muerta es rodeada por exáctamente tres células vivas, esta se vuelve una célula viva."
   ]
  },
  {
   "cell_type": "code",
   "execution_count": 1,
   "metadata": {
    "collapsed": false
   },
   "outputs": [],
   "source": [
    "import numpy as np\n",
    "import matplotlib.pyplot as plt\n",
    "from matplotlib import animation\n",
    "from ipywidgets import interact\n",
    "from ipywidgets import fixed\n",
    "import numba\n",
    "%load_ext line_profiler\n",
    "%matplotlib inline"
   ]
  },
  {
   "cell_type": "code",
   "execution_count": 2,
   "metadata": {
    "collapsed": false
   },
   "outputs": [],
   "source": [
    "def search(cells, row, col):\n",
    "    Nx = cells.shape[0]\n",
    "    Ny = cells.shape[1]\n",
    "    alive = 0\n",
    "    limIzq = limSup = -1\n",
    "    limDer = limInf = 2\n",
    "    \n",
    "    #Condiciones de borde\n",
    "    if row == 0:\n",
    "        limIzq = 0\n",
    "    if col == 0:\n",
    "        limSup = 0\n",
    "    if row == Nx-1:\n",
    "        limDer = 1\n",
    "    if col == Ny-1:\n",
    "        limInf = 1\n",
    "\n",
    "    #Búsqueda en la vecindad de la célula\n",
    "    for i in range(limIzq,limDer):\n",
    "        for j in range(limSup,limInf):\n",
    "            if (i,j) != (0,0):\n",
    "                if cells[row+i][col+j] == 1:\n",
    "                    alive+=1;\n",
    "    return(alive)"
   ]
  },
  {
   "cell_type": "code",
   "execution_count": 3,
   "metadata": {
    "collapsed": false
   },
   "outputs": [],
   "source": [
    "def iteration(original, iterations):\n",
    "    \n",
    "    #Primera llamada a la función\n",
    "    if len(solutions) == 0:\n",
    "        solutions.append(original)\n",
    "        \n",
    "    #Último estado    \n",
    "    newCells = solutions[-1]\n",
    "    \n",
    "    #Creación de un espacio sin células\n",
    "    newGeneration = np.zeros(newCells.shape, dtype=np.int)\n",
    "    \n",
    "    #Si no se ha realizado la iteración\n",
    "    if len(solutions) <= iterations:\n",
    "        for k in range(len(solutions)-1, iterations):\n",
    "            for i in range(0, newCells.shape[0]):\n",
    "                for j in range(0, newCells.shape[1]):\n",
    "                    q = search(newCells, i, j)\n",
    "                    if newCells[i][j] == 1:\n",
    "                        if q > 3:\n",
    "                            newGeneration[i][j] = 0\n",
    "                        elif q < 2:\n",
    "                            newGeneration[i][j] = 0\n",
    "                        else:\n",
    "                            newGeneration[i][j] = 1\n",
    "                    else:\n",
    "                        if q == 3:\n",
    "                            newGeneration[i][j] = 1\n",
    "            solutions.append(newGeneration)\n",
    "            newCells = solutions[-1]\n",
    "            newGeneration = np.zeros(newCells.shape, dtype=np.int)\n",
    "        return(newCells)\n",
    "    \n",
    "    #Si la iteración ya fue realizada anteriormente\n",
    "    else:\n",
    "        return solutions[iterations]\n"
   ]
  },
  {
   "cell_type": "code",
   "execution_count": 4,
   "metadata": {
    "collapsed": true
   },
   "outputs": [],
   "source": [
    "@numba.jit\n",
    "def numbaSearch(cells, row, col):\n",
    "    Nx = cells.shape[0]\n",
    "    Ny = cells.shape[1]\n",
    "    alive = 0\n",
    "    limIzq = limSup = -1\n",
    "    limDer = limInf = 2\n",
    "    \n",
    "    #Condiciones de borde\n",
    "    if row == 0:\n",
    "        limIzq = 0\n",
    "    if col == 0:\n",
    "        limSup = 0\n",
    "    if row == Nx-1:\n",
    "        limDer = 1\n",
    "    if col == Ny-1:\n",
    "        limInf = 1\n",
    "\n",
    "    #Búsqueda en la vecindad de la célula\n",
    "    for i in range(limIzq,limDer):\n",
    "        for j in range(limSup,limInf):\n",
    "            if (i,j) != (0,0):\n",
    "                if cells[row+i][col+j] == 1:\n",
    "                    alive+=1;\n",
    "    return(alive)"
   ]
  },
  {
   "cell_type": "code",
   "execution_count": 5,
   "metadata": {
    "collapsed": true
   },
   "outputs": [],
   "source": [
    "def numbaIteration(original, iterations):\n",
    "    \n",
    "    #Primera llamada a la función\n",
    "    if len(solutions) == 0:\n",
    "        solutions.append(original)\n",
    "        \n",
    "    #Último estado    \n",
    "    newCells = solutions[-1]\n",
    "    \n",
    "    #Creación de un espacio sin células\n",
    "    newGeneration = np.zeros(newCells.shape, dtype=np.int)\n",
    "    \n",
    "    #Si no se ha realizado la iteración\n",
    "    if len(solutions) <= iterations:\n",
    "        for k in range(len(solutions)-1, iterations):\n",
    "            for i in range(0, newCells.shape[0]):\n",
    "                for j in range(0, newCells.shape[1]):\n",
    "                    q = numbaSearch(newCells, i, j)\n",
    "                    if newCells[i][j] == 1:\n",
    "                        if q > 3:\n",
    "                            newGeneration[i][j] = 0\n",
    "                        elif q < 2:\n",
    "                            newGeneration[i][j] = 0\n",
    "                        else:\n",
    "                            newGeneration[i][j] = 1\n",
    "                    else:\n",
    "                        if q == 3:\n",
    "                            newGeneration[i][j] = 1\n",
    "            solutions.append(newGeneration)\n",
    "            newCells = solutions[-1]\n",
    "            newGeneration = np.zeros(newCells.shape, dtype=np.int)\n",
    "        return(newCells)\n",
    "    \n",
    "    #Si la iteración ya fue realizada anteriormente\n",
    "    else:\n",
    "        return solutions[iterations]"
   ]
  },
  {
   "cell_type": "markdown",
   "metadata": {},
   "source": [
    "# Profiling"
   ]
  },
  {
   "cell_type": "code",
   "execution_count": 8,
   "metadata": {
    "collapsed": true
   },
   "outputs": [],
   "source": [
    "N = 500\n",
    "cells = np.random.randint(2, size =(N,N))\n",
    "solutions = []"
   ]
  },
  {
   "cell_type": "code",
   "execution_count": 9,
   "metadata": {
    "collapsed": false
   },
   "outputs": [
    {
     "name": "stdout",
     "output_type": "stream",
     "text": [
      "The slowest run took 420804.15 times longer than the fastest. This could mean that an intermediate result is being cached.\n",
      "1 loop, best of 3: 41.2 µs per loop\n"
     ]
    }
   ],
   "source": [
    "%%timeit\n",
    "solutions = []\n",
    "iteration(cells, 10)"
   ]
  },
  {
   "cell_type": "code",
   "execution_count": 10,
   "metadata": {
    "collapsed": false
   },
   "outputs": [
    {
     "name": "stdout",
     "output_type": "stream",
     "text": [
      "10000 loops, best of 3: 66.9 µs per loop\n"
     ]
    }
   ],
   "source": [
    "%%timeit\n",
    "solutions = []\n",
    "numbaIteration(cells, 10)"
   ]
  },
  {
   "cell_type": "code",
   "execution_count": 11,
   "metadata": {
    "collapsed": false
   },
   "outputs": [
    {
     "name": "stdout",
     "output_type": "stream",
     "text": [
      "The slowest run took 1929749.28 times longer than the fastest. This could mean that an intermediate result is being cached.\n",
      "1 loop, best of 3: 79 µs per loop\n"
     ]
    }
   ],
   "source": [
    "%%timeit\n",
    "solutions = []\n",
    "iteration(cells, 100)"
   ]
  },
  {
   "cell_type": "code",
   "execution_count": 12,
   "metadata": {
    "collapsed": false
   },
   "outputs": [
    {
     "name": "stdout",
     "output_type": "stream",
     "text": [
      "10000 loops, best of 3: 71.2 µs per loop\n"
     ]
    }
   ],
   "source": [
    "%%timeit\n",
    "solutions = []\n",
    "numbaIteration(cells, 100)"
   ]
  },
  {
   "cell_type": "markdown",
   "metadata": {},
   "source": [
    "Profiling sin numba"
   ]
  },
  {
   "cell_type": "code",
   "execution_count": 13,
   "metadata": {
    "collapsed": true
   },
   "outputs": [],
   "source": [
    "solutions = []"
   ]
  },
  {
   "cell_type": "code",
   "execution_count": 14,
   "metadata": {
    "collapsed": false
   },
   "outputs": [
    {
     "name": "stdout",
     "output_type": "stream",
     "text": [
      " \n",
      "*** Profile printout saved to text file 'prun0'. \n"
     ]
    }
   ],
   "source": [
    "%%prun -s cumulative -q -l 15 -T prun0\n",
    "iteration(cells, 100)"
   ]
  },
  {
   "cell_type": "code",
   "execution_count": 15,
   "metadata": {
    "collapsed": false
   },
   "outputs": [
    {
     "name": "stdout",
     "output_type": "stream",
     "text": [
      "         25000209 function calls in 179.860 seconds\n",
      "\n",
      "   Ordered by: cumulative time\n",
      "\n",
      "   ncalls  tottime  percall  cumtime  percall filename:lineno(function)\n",
      "        1    0.000    0.000  179.860  179.860 {built-in method builtins.exec}\n",
      "        1    0.000    0.000  179.859  179.859 <string>:2(<module>)\n",
      "        1   17.849   17.849  179.859  179.859 <ipython-input-3-f7f9fbc11614>:1(iteration)\n",
      " 25000000  162.004    0.000  162.004    0.000 <ipython-input-2-a7785eb91a37>:1(search)\n",
      "      101    0.007    0.000    0.007    0.000 {built-in method numpy.core.multiarray.zeros}\n",
      "      101    0.000    0.000    0.000    0.000 {method 'append' of 'list' objects}\n",
      "        3    0.000    0.000    0.000    0.000 {built-in method builtins.len}\n",
      "        1    0.000    0.000    0.000    0.000 {method 'disable' of '_lsprof.Profiler' objects}\n"
     ]
    }
   ],
   "source": [
    "print(open('prun0', 'r').read())"
   ]
  },
  {
   "cell_type": "code",
   "execution_count": 16,
   "metadata": {
    "collapsed": true
   },
   "outputs": [],
   "source": [
    "solutions = []"
   ]
  },
  {
   "cell_type": "code",
   "execution_count": 17,
   "metadata": {
    "collapsed": false
   },
   "outputs": [
    {
     "name": "stdout",
     "output_type": "stream",
     "text": [
      "\n",
      "*** Profile printout saved to text file 'lprof0'. \n"
     ]
    }
   ],
   "source": [
    "%lprun -T lprof0 -f iteration iteration(cells, 100)"
   ]
  },
  {
   "cell_type": "code",
   "execution_count": 18,
   "metadata": {
    "collapsed": false
   },
   "outputs": [
    {
     "name": "stdout",
     "output_type": "stream",
     "text": [
      "Timer unit: 1e-06 s\n",
      "\n",
      "Total time: 492.803 s\n",
      "File: <ipython-input-3-f7f9fbc11614>\n",
      "Function: iteration at line 1\n",
      "\n",
      "Line #      Hits         Time  Per Hit   % Time  Line Contents\n",
      "==============================================================\n",
      "     1                                           def iteration(original, iterations):\n",
      "     2                                               \n",
      "     3                                               #Primera llamada a la función\n",
      "     4         1            6      6.0      0.0      if len(solutions) == 0:\n",
      "     5         1            4      4.0      0.0          solutions.append(original)\n",
      "     6                                                   \n",
      "     7                                               #Último estado    \n",
      "     8         1            3      3.0      0.0      newCells = solutions[-1]\n",
      "     9                                               \n",
      "    10                                               #Creación de un espacio sin células\n",
      "    11         1          341    341.0      0.0      newGeneration = np.zeros(newCells.shape, dtype=np.int)\n",
      "    12                                               \n",
      "    13                                               #Si no se ha realizado la iteración\n",
      "    14         1            4      4.0      0.0      if len(solutions) <= iterations:\n",
      "    15       101          100      1.0      0.0          for k in range(len(solutions)-1, iterations):\n",
      "    16     50100        27398      0.5      0.0              for i in range(0, newCells.shape[0]):\n",
      "    17  25050000     13268896      0.5      2.7                  for j in range(0, newCells.shape[1]):\n",
      "    18  25000000    432909717     17.3     87.8                      q = search(newCells, i, j)\n",
      "    19  25000000     26277702      1.1      5.3                      if newCells[i][j] == 1:\n",
      "    20   3436669      2079415      0.6      0.4                          if q > 3:\n",
      "    21    967754       886480      0.9      0.2                              newGeneration[i][j] = 0\n",
      "    22   2468915      1365054      0.6      0.3                          elif q < 2:\n",
      "    23    512177       481408      0.9      0.1                              newGeneration[i][j] = 0\n",
      "    24                                                                   else:\n",
      "    25   1956738      1725576      0.9      0.4                              newGeneration[i][j] = 1\n",
      "    26                                                               else:\n",
      "    27  21563331     12558793      0.6      2.5                          if q == 3:\n",
      "    28   1378896      1215656      0.9      0.2                              newGeneration[i][j] = 1\n",
      "    29       100          295      3.0      0.0              solutions.append(newGeneration)\n",
      "    30       100          101      1.0      0.0              newCells = solutions[-1]\n",
      "    31       100         5825     58.2      0.0              newGeneration = np.zeros(newCells.shape, dtype=np.int)\n",
      "    32         1            1      1.0      0.0          return(newCells)\n",
      "    33                                               \n",
      "    34                                               #Si la iteración ya fue realizada anteriormente\n",
      "    35                                               else:\n",
      "    36                                                   return solutions[iterations]\n"
     ]
    }
   ],
   "source": [
    "print(open('lprof0', 'r').read())"
   ]
  },
  {
   "cell_type": "markdown",
   "metadata": {},
   "source": [
    "La función 'search' es la que utiliza la mayor cantidad de tiempo, por lo que, para optimizar la función 'iteration', debemos optimizar 'search'. Simplemente se agregó el decorador de numba, en el caso de que no baste para mejorar el desempeño, se agregarán más detalles."
   ]
  },
  {
   "cell_type": "markdown",
   "metadata": {},
   "source": [
    "Profiling con numba"
   ]
  },
  {
   "cell_type": "code",
   "execution_count": 19,
   "metadata": {
    "collapsed": true
   },
   "outputs": [],
   "source": [
    "solutions = []"
   ]
  },
  {
   "cell_type": "code",
   "execution_count": 20,
   "metadata": {
    "collapsed": false
   },
   "outputs": [
    {
     "name": "stdout",
     "output_type": "stream",
     "text": [
      " \n",
      "*** Profile printout saved to text file 'prun0'. \n"
     ]
    }
   ],
   "source": [
    "%%prun -s cumulative -q -l 15 -T prun0\n",
    "numbaIteration(cells, 100)"
   ]
  },
  {
   "cell_type": "code",
   "execution_count": 21,
   "metadata": {
    "collapsed": false
   },
   "outputs": [
    {
     "name": "stdout",
     "output_type": "stream",
     "text": [
      "         25179310 function calls (25170179 primitive calls) in 65.729 seconds\n",
      "\n",
      "   Ordered by: cumulative time\n",
      "   List reduced from 2067 to 15 due to restriction <15>\n",
      "\n",
      "   ncalls  tottime  percall  cumtime  percall filename:lineno(function)\n",
      "     52/1    0.001    0.000   65.729   65.729 {built-in method builtins.exec}\n",
      "        1    0.000    0.000   65.729   65.729 <string>:2(<module>)\n",
      "        1   57.183   57.183   65.729   65.729 <ipython-input-5-bbc0688cd8de>:1(numbaIteration)\n",
      " 25000000    8.331    0.000    8.331    0.000 <ipython-input-4-97e136cd63a1>:1(numbaSearch)\n",
      "        1    0.000    0.000    0.209    0.209 dispatcher.py:273(_compile_for_args)\n",
      "        1    0.000    0.000    0.209    0.209 dispatcher.py:510(compile)\n",
      "        1    0.000    0.000    0.209    0.209 dispatcher.py:71(compile)\n",
      "        1    0.000    0.000    0.209    0.209 compiler.py:683(compile_extra)\n",
      "        1    0.000    0.000    0.134    0.134 compiler.py:335(compile_extra)\n",
      "        1    0.000    0.000    0.134    0.134 compiler.py:653(_compile_bytecode)\n",
      "        1    0.000    0.000    0.134    0.134 compiler.py:607(_compile_core)\n",
      "        1    0.000    0.000    0.133    0.133 compiler.py:219(run)\n",
      "        1    0.000    0.000    0.100    0.100 compiler.py:578(stage_nopython_backend)\n",
      "        1    0.000    0.000    0.100    0.100 compiler.py:527(_backend)\n",
      "        1    0.000    0.000    0.100    0.100 compiler.py:514(backend_nopython_mode)\n"
     ]
    }
   ],
   "source": [
    "print(open('prun0', 'r').read())"
   ]
  },
  {
   "cell_type": "code",
   "execution_count": 26,
   "metadata": {
    "collapsed": true
   },
   "outputs": [],
   "source": [
    "solutions = []"
   ]
  },
  {
   "cell_type": "code",
   "execution_count": 27,
   "metadata": {
    "collapsed": false
   },
   "outputs": [
    {
     "name": "stdout",
     "output_type": "stream",
     "text": [
      "\n",
      "*** Profile printout saved to text file 'lprof0'. \n"
     ]
    }
   ],
   "source": [
    "%lprun -T lprof0 -f numbaIteration numbaIteration(cells, 100)"
   ]
  },
  {
   "cell_type": "code",
   "execution_count": 28,
   "metadata": {
    "collapsed": false
   },
   "outputs": [
    {
     "name": "stdout",
     "output_type": "stream",
     "text": [
      "Timer unit: 1e-06 s\n",
      "\n",
      "Total time: 88.1595 s\n",
      "File: <ipython-input-5-bbc0688cd8de>\n",
      "Function: numbaIteration at line 1\n",
      "\n",
      "Line #      Hits         Time  Per Hit   % Time  Line Contents\n",
      "==============================================================\n",
      "     1                                           def numbaIteration(original, iterations):\n",
      "     2                                               \n",
      "     3                                               #Primera llamada a la función\n",
      "     4         1            3      3.0      0.0      if len(solutions) == 0:\n",
      "     5         1            2      2.0      0.0          solutions.append(original)\n",
      "     6                                                   \n",
      "     7                                               #Último estado    \n",
      "     8         1            1      1.0      0.0      newCells = solutions[-1]\n",
      "     9                                               \n",
      "    10                                               #Creación de un espacio sin células\n",
      "    11         1          349    349.0      0.0      newGeneration = np.zeros(newCells.shape, dtype=np.int)\n",
      "    12                                               \n",
      "    13                                               #Si no se ha realizado la iteración\n",
      "    14         1            4      4.0      0.0      if len(solutions) <= iterations:\n",
      "    15       101          100      1.0      0.0          for k in range(len(solutions)-1, iterations):\n",
      "    16     50100        28322      0.6      0.0              for i in range(0, newCells.shape[0]):\n",
      "    17  25050000     13844932      0.6     15.7                  for j in range(0, newCells.shape[1]):\n",
      "    18  25000000     27311924      1.1     31.0                      q = numbaSearch(newCells, i, j)\n",
      "    19  25000000     25947526      1.0     29.4                      if newCells[i][j] == 1:\n",
      "    20   3436669      2172442      0.6      2.5                          if q > 3:\n",
      "    21    967754       898460      0.9      1.0                              newGeneration[i][j] = 0\n",
      "    22   2468915      1432719      0.6      1.6                          elif q < 2:\n",
      "    23    512177       490344      1.0      0.6                              newGeneration[i][j] = 0\n",
      "    24                                                                   else:\n",
      "    25   1956738      1754089      0.9      2.0                              newGeneration[i][j] = 1\n",
      "    26                                                               else:\n",
      "    27  21563331     13035010      0.6     14.8                          if q == 3:\n",
      "    28   1378896      1236929      0.9      1.4                              newGeneration[i][j] = 1\n",
      "    29       100          331      3.3      0.0              solutions.append(newGeneration)\n",
      "    30       100          115      1.1      0.0              newCells = solutions[-1]\n",
      "    31       100         5894     58.9      0.0              newGeneration = np.zeros(newCells.shape, dtype=np.int)\n",
      "    32         1            1      1.0      0.0          return(newCells)\n",
      "    33                                               \n",
      "    34                                               #Si la iteración ya fue realizada anteriormente\n",
      "    35                                               else:\n",
      "    36                                                   return solutions[iterations]\n"
     ]
    }
   ],
   "source": [
    "print(open('lprof0', 'r').read())"
   ]
  },
  {
   "cell_type": "markdown",
   "metadata": {},
   "source": [
    "De 492 segundos bajó a casi 90, la mejora es lo suficientemente buena como para seguir con la visualización del Juego de la Vida."
   ]
  },
  {
   "cell_type": "markdown",
   "metadata": {},
   "source": [
    "# Visualización"
   ]
  },
  {
   "cell_type": "code",
   "execution_count": 29,
   "metadata": {
    "collapsed": true
   },
   "outputs": [],
   "source": [
    "def visualization(original, it):\n",
    "    cells = numbaIteration(original, it)\n",
    "    fig = plt.figure(figsize=(6, 6), dpi=100)\n",
    "    plt.imshow(cells, interpolation=None, cmap='inferno')\n",
    "    plt.show()"
   ]
  },
  {
   "cell_type": "code",
   "execution_count": 30,
   "metadata": {
    "collapsed": true
   },
   "outputs": [],
   "source": [
    "cellsDic = dict()"
   ]
  },
  {
   "cell_type": "code",
   "execution_count": 31,
   "metadata": {
    "collapsed": false
   },
   "outputs": [],
   "source": [
    "#Interesting patterns\n",
    "aux = np.array([[0,0,0,0,0,0,0,0,0,0,0,0,0,0,0,0,0,0,0,0,0,0,0,0,0,0],\n",
    "                [0,0,0,0,0,0,1,1,0,0,0,0,1,1,0,0,0,0,0,0,0,0,0,0,0,0],\n",
    "                [0,1,1,0,0,1,0,0,1,0,0,1,0,0,1,0,0,1,1,0,0,0,0,1,0,0],\n",
    "                [0,1,1,0,0,0,1,1,0,0,0,0,1,0,1,0,0,1,0,1,0,0,1,0,1,0],\n",
    "                [0,0,0,0,0,0,0,0,0,0,0,0,0,1,0,0,0,0,1,0,0,0,0,1,0,0],\n",
    "                [0,0,0,0,0,0,0,0,0,0,0,0,0,0,0,0,0,0,0,0,0,0,0,0,0,0]], np.int)\n",
    "cellsDic[\"forever\"] = aux\n",
    "cellsDic[\"pulsar\"] = np.array([[0,0,0,0,0,0,0,0,0,0,0,0,0,0,0,0,0],\n",
    "                               [0,0,0,0,0,1,0,0,0,0,0,1,0,0,0,0,0],\n",
    "                               [0,0,0,0,0,1,0,0,0,0,0,1,0,0,0,0,0],\n",
    "                               [0,0,0,0,0,1,1,0,0,0,1,1,0,0,0,0,0],\n",
    "                               [0,0,0,0,0,0,0,0,0,0,0,0,0,0,0,0,0],\n",
    "                               [0,1,1,1,0,0,1,1,0,1,1,0,0,1,1,1,0],\n",
    "                               [0,0,0,1,0,1,0,1,0,1,0,1,0,1,0,0,0],\n",
    "                               [0,0,0,0,0,1,1,0,0,0,1,1,0,0,0,0,0],\n",
    "                               [0,0,0,0,0,0,0,0,0,0,0,0,0,0,0,0,0],\n",
    "                               [0,0,0,0,0,1,1,0,0,0,1,1,0,0,0,0,0],\n",
    "                               [0,0,0,1,0,1,0,1,0,1,0,1,0,1,0,0,0],\n",
    "                               [0,1,1,1,0,0,1,1,0,1,1,0,0,1,1,1,0],\n",
    "                               [0,0,0,0,0,0,0,0,0,0,0,0,0,0,0,0,0],\n",
    "                               [0,0,0,0,0,1,1,0,0,0,1,1,0,0,0,0,0],\n",
    "                               [0,0,0,0,0,1,0,0,0,0,0,1,0,0,0,0,0],\n",
    "                               [0,0,0,0,0,1,0,0,0,0,0,1,0,0,0,0,0],\n",
    "                               [0,0,0,0,0,0,0,0,0,0,0,0,0,0,0,0,0]], np.int)\n",
    "aux = np.zeros(shape=(20,20), dtype=int)\n",
    "aux[1][1] = aux[1][3] = aux[2][2] = aux[2][3] = aux[3][2] = 1\n",
    "\n",
    "cellsDic[\"spaceship\"] = aux"
   ]
  },
  {
   "cell_type": "markdown",
   "metadata": {},
   "source": [
    "A continuación, hay un ejemplo donde un número aleatorio de células se encuentran en una caja de 500x500, se puede observar como se comportan en cada iteración que se realiza."
   ]
  },
  {
   "cell_type": "code",
   "execution_count": 32,
   "metadata": {
    "collapsed": false
   },
   "outputs": [],
   "source": [
    "N = 500\n",
    "cellsDic[\"random\"] = np.random.randint(2, size =(N,N))"
   ]
  },
  {
   "cell_type": "code",
   "execution_count": 36,
   "metadata": {
    "collapsed": false,
    "scrolled": false
   },
   "outputs": [
    {
     "data": {
      "image/png": "[encoded data removed]",
      "text/plain": [
       "<matplotlib.figure.Figure at 0x7f50fdd18160>"
      ]
     },
     "metadata": {},
     "output_type": "display_data"
    }
   ],
   "source": [
    "solutions=[]\n",
    "interact(visualization, original=fixed(cellsDic[\"random\"]), it = (0,100,1))"
   ]
  },
  {
   "cell_type": "markdown",
   "metadata": {},
   "source": [
    "En un comienzo, se observa que gran parte del espacio se encuentra utilizado por las células, las que rápidamente mueren, posiblemente por sobrepolación, decantando en un estado más estable de interacción."
   ]
  },
  {
   "cell_type": "markdown",
   "metadata": {},
   "source": [
    "Existen patrones que son estáticos y que no variarán en el tiempo. Algunos ejemplos son los que se muestran a continuación."
   ]
  },
  {
   "cell_type": "code",
   "execution_count": 34,
   "metadata": {
    "collapsed": false
   },
   "outputs": [
    {
     "data": {
      "image/png": "[encoded data removed]",
      "text/plain": [
       "<matplotlib.figure.Figure at 0x7f5101597128>"
      ]
     },
     "metadata": {},
     "output_type": "display_data"
    },
    {
     "data": {
      "text/plain": [
       "<function __main__.visualization>"
      ]
     },
     "execution_count": 34,
     "metadata": {},
     "output_type": "execute_result"
    }
   ],
   "source": [
    "solutions=[]\n",
    "interact(visualization, original=fixed(cellsDic[\"forever\"]), it = (0,100,1))"
   ]
  },
  {
   "cell_type": "markdown",
   "metadata": {},
   "source": [
    "Además, hay patrones que simulan objetos, como una nave espacial que se mueve en el espacio, patrón que va alternando entre su forma original y otras utilizadas para desplazarse a medida que se mueve en el espacio."
   ]
  },
  {
   "cell_type": "code",
   "execution_count": 35,
   "metadata": {
    "collapsed": false
   },
   "outputs": [
    {
     "data": {
      "image/png": "[encoded data removed]",
      "text/plain": [
       "<matplotlib.figure.Figure at 0x7f5101597da0>"
      ]
     },
     "metadata": {},
     "output_type": "display_data"
    }
   ],
   "source": [
    "solutions=[]\n",
    "interact(visualization, original=fixed(cellsDic[\"spaceship\"]), it = (0,100,1))"
   ]
  },
  {
   "cell_type": "code",
   "execution_count": null,
   "metadata": {
    "collapsed": true
   },
   "outputs": [],
   "source": []
  }
 ],
 "metadata": {
  "kernelspec": {
   "display_name": "Python 3",
   "language": "python",
   "name": "python3"
  },
  "language_info": {
   "codemirror_mode": {
    "name": "ipython",
    "version": 3
   },
   "file_extension": ".py",
   "mimetype": "text/x-python",
   "name": "python",
   "nbconvert_exporter": "python",
   "pygments_lexer": "ipython3",
   "version": "3.6.0"
  },
  "widgets": {
   "state": {
    "3a22b8da719f4f76a42296fcb188c03d": {
     "views": [
      {
       "cell_index": 38
      }
     ]
    },
    "807562435fad4705ab26540c4a2bbb0a": {
     "views": [
      {
       "cell_index": 35
      }
     ]
    },
    "af6b28c21769487696504516919abe94": {
     "views": [
      {
       "cell_index": 40
      }
     ]
    }
   },
   "version": "1.2.0"
  }
 },
 "nbformat": 4,
 "nbformat_minor": 2
}
