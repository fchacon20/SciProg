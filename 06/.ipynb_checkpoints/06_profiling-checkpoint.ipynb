{
 "cells": [
  {
   "cell_type": "markdown",
   "metadata": {},
   "source": [
    "<h1 align=\"center\">Scientific Programming in Python</h1>\n",
    "<h2 align=\"center\"> Topic 6: Python Profiling and Optimization </h2> \n",
    "\n",
    "\n",
    "_Notebook created by Martín Villanueva - `martin.villanueva@usm.cl` - DI UTFSM - May 2017._"
   ]
  },
  {
   "cell_type": "code",
   "execution_count": 1,
   "metadata": {
    "collapsed": true
   },
   "outputs": [],
   "source": [
    "%matplotlib inline\n",
    "\n",
    "import numpy as np\n",
    "import numexpr as ne\n",
    "import numba\n",
    "import random\n",
    "import matplotlib.pyplot as plt\n",
    "import scipy as sp\n",
    "import sys\n",
    "from ipywidgets import interact, interactive, fixed"
   ]
  },
  {
   "cell_type": "markdown",
   "metadata": {},
   "source": [
    "## Table of Contents\n",
    "* [1.- About Optimization](#about)\n",
    "* [2.- Time Profiling](#time)\n",
    "* [3.- Memory Profiling](#memory)\n",
    "* [4.- Application: K-means Clustering Algorithm](#application)"
   ]
  },
  {
   "cell_type": "markdown",
   "metadata": {},
   "source": [
    "<div id='about' />\n",
    "## 1.- About Optimization\n",
    "\n",
    "_\"The real problem is that programmers have spent far too much time worrying about efficiency in the wrong places and at the wrong times; premature optimization is the root of all evil (or at least most of it) in programming\"._ __Donald Knuth__.\n",
    "\n",
    "* Optimizing code prematurely is generally considered a bad practice.\n",
    "* Code optimization should only be conducted when it's really needed.\n",
    "* We should know exactly where we need to optimize your code.\n",
    "* Typically the majority of the execution time comprises a relatively small part of the code.\n",
    "* __Optimization should never be done without preliminary profiling__."
   ]
  },
  {
   "cell_type": "markdown",
   "metadata": {},
   "source": [
    "<div id='time' />\n",
    "## 2.- Time Profiling"
   ]
  },
  {
   "cell_type": "markdown",
   "metadata": {},
   "source": [
    "### 2.1- Time Benchmarking: `timeit`\n",
    "\n",
    "The `%timeit` magic and the `%%timeit` cell magic allow you to quickly evaluate (__benchmark__) the time taken by one or several Python statements.\n",
    "\n",
    "Some useful options: `%timeit?`\n",
    "\n",
    "__Options__:\n",
    "\n",
    "- __n__: Execute the given statement <N> times in a loop. If this value\n",
    "is not given, a fitting value is chosen.\n",
    "\n",
    "- __r__: Repeat the loop iteration <R> times and take the best result.\n",
    "Default: 3\n",
    "\n",
    "- __t__: Use time.time to measure the time, which is the default on Unix.\n",
    "This function measures wall time.\n",
    "\n",
    "- __c__: Use time.clock to measure the time, which is the default on\n",
    "Windows and measures wall time. On Unix, resource.getrusage is used\n",
    "instead and returns the CPU user time.\n",
    "\n",
    "- __p__: Use a precision of <P> digits to display the timing result.\n",
    "Default: 3\n",
    "\n",
    "- __q__: Quiet, do not print result.\n",
    "\n",
    "- __o__: Return a TimeitResult that can be stored in a variable to inspect\n",
    "    the result in more details."
   ]
  },
  {
   "cell_type": "markdown",
   "metadata": {},
   "source": [
    "We are going to estimate the time taken to calculate the sum of the inverse squares of all positive integer numbers up to a given n. Let's first define n:"
   ]
  },
  {
   "cell_type": "code",
   "execution_count": 2,
   "metadata": {
    "collapsed": true
   },
   "outputs": [],
   "source": [
    "n = 100000"
   ]
  },
  {
   "cell_type": "markdown",
   "metadata": {},
   "source": [
    "Let's time this computation in pure Python (Using list comprehensions)"
   ]
  },
  {
   "cell_type": "code",
   "execution_count": 3,
   "metadata": {
    "collapsed": false
   },
   "outputs": [
    {
     "name": "stdout",
     "output_type": "stream",
     "text": [
      "100 loops, best of 3: 17.6 ms per loop\n"
     ]
    }
   ],
   "source": [
    "t1 = %timeit -o -n 100 sum([1. / i**2 for i in range(1, n)])"
   ]
  },
  {
   "cell_type": "markdown",
   "metadata": {},
   "source": [
    "Now, let's use the `%%timeit` cell magic to time the same computation written on two lines:"
   ]
  },
  {
   "cell_type": "code",
   "execution_count": null,
   "metadata": {
    "collapsed": true
   },
   "outputs": [],
   "source": [
    "%%timeit s=0.\n",
    "for i in range(1, n):\n",
    "    s += 1./i**2"
   ]
  },
  {
   "cell_type": "markdown",
   "metadata": {},
   "source": [
    "Finally, let's time the NumPy version of this computation:"
   ]
  },
  {
   "cell_type": "code",
   "execution_count": 4,
   "metadata": {
    "collapsed": false
   },
   "outputs": [
    {
     "name": "stdout",
     "output_type": "stream",
     "text": [
      "100 loops, best of 3: 349 µs per loop\n"
     ]
    }
   ],
   "source": [
    "t2 = %timeit -o -n 100 np.sum(1./np.arange(1., n) ** 2)"
   ]
  },
  {
   "cell_type": "markdown",
   "metadata": {},
   "source": [
    "The object returned by `timeit` contains information about the time measurements:"
   ]
  },
  {
   "cell_type": "code",
   "execution_count": 5,
   "metadata": {
    "collapsed": false
   },
   "outputs": [
    {
     "name": "stdout",
     "output_type": "stream",
     "text": [
      "Type:\n",
      "<class 'IPython.core.magics.execution.TimeitResult'>\n",
      "\n",
      "Time of all runs:\n",
      "[1.9788990020751953, 1.8239920139312744, 1.758664846420288]\n",
      "\n",
      "Best measured time:\n",
      "0.0175866484642\n",
      "\n",
      "Worst measured time:\n",
      "0.0197889900208\n",
      "\n",
      "Compilation time:\n",
      "0.000213\n"
     ]
    }
   ],
   "source": [
    "print(\"Type:\")\n",
    "print(type(t1))\n",
    "\n",
    "print(\"\\nTime of all runs:\")\n",
    "print(t1.all_runs)\n",
    "\n",
    "print(\"\\nBest measured time:\")\n",
    "print(t1.best)\n",
    "\n",
    "print(\"\\nWorst measured time:\")\n",
    "print(t1.worst)\n",
    "\n",
    "print(\"\\nCompilation time:\")\n",
    "print(t1.compile_time)"
   ]
  },
  {
   "cell_type": "markdown",
   "metadata": {},
   "source": [
    "And we can compare the performance improvement with the quotient between the best measured times:"
   ]
  },
  {
   "cell_type": "code",
   "execution_count": 6,
   "metadata": {
    "collapsed": false
   },
   "outputs": [
    {
     "name": "stdout",
     "output_type": "stream",
     "text": [
      "Performance improvement:\n",
      "50.3812896572\n"
     ]
    }
   ],
   "source": [
    "print(\"Performance improvement:\")\n",
    "print(t1.best/t2.best)"
   ]
  },
  {
   "cell_type": "markdown",
   "metadata": {},
   "source": [
    "### 2.2- Function Profiling: `cProfile`\n",
    "\n",
    "The `%timeit` magic command is often helpful, yet a bit limited when you need detailed information about what takes most of the execution time in your code. __This magic command is meant for benchmarking rather than profiling__.\n",
    "\n",
    "Python includes a profiler named __cProfile__ that breaks down the execution time into the contributions of all called functions. `IPython` provides convenient ways to leverage this tool in an interactive session, through the `%prun` and `%%prun` magics.\n",
    "\n",
    "To introduce its usage we will use a known example: __Random walks__.\n",
    "\n",
    "Let's create a function generating random +1 and -1 values in an array:"
   ]
  },
  {
   "cell_type": "code",
   "execution_count": 9,
   "metadata": {
    "collapsed": true
   },
   "outputs": [],
   "source": [
    "def step(*shape):\n",
    "    # Create a random n-vector with +1 or -1 values.\n",
    "    return 2 * (np.random.random_sample(shape) < .5) - 1"
   ]
  },
  {
   "cell_type": "markdown",
   "metadata": {},
   "source": [
    "Now, let's write the simulation code in a cell starting with `%%prun` in order to profile the entire simulation. The various options allow us to save the report in a  file and to sort the  first 10 results by cumulative time.\n",
    "\n",
    "Python's profiler creates a detailed report of the execution time of our code, function by function. For each function, we get the total __number of calls__, the __total and cumulative times__, and their __per-call__ counterparts (division by ncalls). Note that:\n",
    "* The __total time__ represents how long the interpreter stays in a given function, excluding the time spent\n",
    "in calls to subfunctions.\n",
    "* The __cumulative time__ is similar but includes the time spent in calls to subfunctions."
   ]
  },
  {
   "cell_type": "code",
   "execution_count": 7,
   "metadata": {
    "collapsed": false
   },
   "outputs": [
    {
     "data": {
      "text/plain": [
       "array([ 1,  3,  6, 10, 15, 21])"
      ]
     },
     "execution_count": 7,
     "metadata": {},
     "output_type": "execute_result"
    }
   ],
   "source": [
    "a = np.array([1,2,3,4,5,6])\n",
    "np.cumsum(a)"
   ]
  },
  {
   "cell_type": "code",
   "execution_count": 10,
   "metadata": {
    "collapsed": false
   },
   "outputs": [
    {
     "name": "stdout",
     "output_type": "stream",
     "text": [
      " \n",
      "*** Profile printout saved to text file u'prun0'. \n"
     ]
    }
   ],
   "source": [
    "%%prun -s cumulative -q -l 15 -T prun0\n",
    "n = 10000\n",
    "iterations = 500\n",
    "x = np.cumsum(step(iterations, n), axis=0)\n",
    "bins = np.arange(-30, 30, 1)\n",
    "y = np.vstack([np.histogram(x[i,:], bins)[0] for i in range(iterations)])"
   ]
  },
  {
   "cell_type": "markdown",
   "metadata": {},
   "source": [
    "In the example, __-s__ allows us to sort the report by a particular column, __-q__ to suppress the pager output, __-l__ to limit the number of lines displayed or to filter the results by function name, and __-T__ to save the report\n",
    "in a text  file. . This _database-like_ object contains all information about the profiling and can be analyzed through Python's pstats module. For more info about arguments run __`%prun?`__.\n",
    "\n",
    "The profiling report has been saved in a text file named `prun0`. Let's display it:"
   ]
  },
  {
   "cell_type": "code",
   "execution_count": 11,
   "metadata": {
    "collapsed": false
   },
   "outputs": [
    {
     "name": "stdout",
     "output_type": "stream",
     "text": [
      "         38510 function calls in 0.415 seconds\n",
      "\n",
      "   Ordered by: cumulative time\n",
      "   List reduced from 43 to 15 due to restriction <15>\n",
      "\n",
      "   ncalls  tottime  percall  cumtime  percall filename:lineno(function)\n",
      "        1    0.006    0.006    0.415    0.415 <string>:2(<module>)\n",
      "      500    0.019    0.000    0.221    0.000 function_base.py:267(histogram)\n",
      "        1    0.053    0.053    0.151    0.151 <ipython-input-9-7b2aa0313928>:1(step)\n",
      "      500    0.001    0.000    0.151    0.000 fromnumeric.py:717(sort)\n",
      "      500    0.146    0.000    0.146    0.000 {method 'sort' of 'numpy.ndarray' objects}\n",
      "        1    0.098    0.098    0.098    0.098 {method 'random_sample' of 'mtrand.RandomState' objects}\n",
      "        1    0.000    0.000    0.035    0.035 fromnumeric.py:2067(cumsum)\n",
      "        1    0.035    0.035    0.035    0.035 {method 'cumsum' of 'numpy.ndarray' objects}\n",
      "     2000    0.015    0.000    0.015    0.000 {method 'reduce' of 'numpy.ufunc' objects}\n",
      "      500    0.007    0.000    0.015    0.000 index_tricks.py:251(__getitem__)\n",
      "     1000    0.007    0.000    0.008    0.000 function_base.py:1518(diff)\n",
      "      500    0.000    0.000    0.007    0.000 {method 'min' of 'numpy.ndarray' objects}\n",
      "      500    0.000    0.000    0.007    0.000 _methods.py:28(_amin)\n",
      "      500    0.000    0.000    0.006    0.000 {method 'max' of 'numpy.ndarray' objects}\n",
      "      500    0.000    0.000    0.006    0.000 _methods.py:25(_amax)\n"
     ]
    }
   ],
   "source": [
    "print(open('prun0', 'r').read())"
   ]
  },
  {
   "cell_type": "code",
   "execution_count": 12,
   "metadata": {
    "collapsed": true
   },
   "outputs": [],
   "source": [
    "def plot_helper(y, i, n):\n",
    "    plt.figure(figsize=(10,7))\n",
    "    plt.plot(np.arange(-30,29), y[i], 'ro-')\n",
    "    plt.title(\"Distribution of {0} simultaneous random walks at iteration {1}\".format(n,i))\n",
    "    plt.show()"
   ]
  },
  {
   "cell_type": "code",
   "execution_count": 13,
   "metadata": {
    "collapsed": false
   },
   "outputs": [
    {
     "name": "stderr",
     "output_type": "stream",
     "text": [
      "/Users/mavillan/anaconda3/envs/python2/lib/python2.7/site-packages/traitlets/traitlets.py:567: FutureWarning: comparison to `None` will result in an elementwise object comparison in the future.\n",
      "  silent = bool(old_value == new_value)\n"
     ]
    },
    {
     "data": {
      "application/vnd.jupyter.widget-view+json": {
       "model_id": "e90ab74c9e6b49e1bd8b91835bb4b958"
      }
     },
     "metadata": {},
     "output_type": "display_data"
    },
    {
     "data": {
      "text/plain": [
       "<function __main__.plot_helper>"
      ]
     },
     "execution_count": 13,
     "metadata": {},
     "output_type": "execute_result"
    }
   ],
   "source": [
    "interact(plot_helper, y=fixed(y), i=(0,500), n=fixed(10000))"
   ]
  },
  {
   "cell_type": "markdown",
   "metadata": {},
   "source": [
    "### 2.3- Line Profiling: `line_profiler`"
   ]
  },
  {
   "cell_type": "markdown",
   "metadata": {},
   "source": [
    "Python's native cProfile module and the corresponding %prun magic break down the execution time of code function by function. Sometimes, we may need an even __more fine- grained analysis__ of code performance with a __line-by-line__ report.\n",
    "\n",
    "To profile code line-by-line, we need an external Python module named __`line_profiler`__. To install it run one of these:\n",
    "* `conda install line_profiler`\n",
    "* `pip install line_profiler`\n",
    "\n",
    "Once installed import the `line_profiler` IPython extension module that comes with the package:"
   ]
  },
  {
   "cell_type": "code",
   "execution_count": 14,
   "metadata": {
    "collapsed": true
   },
   "outputs": [],
   "source": [
    "%load_ext line_profiler"
   ]
  },
  {
   "cell_type": "markdown",
   "metadata": {},
   "source": [
    "This IPython extension module provides a __`%lprun`__ magic command to profile a Python function line-by-line. \n",
    "\n",
    "__Note:__ It works best when the function is __defined in a file__ and not in the interactive namespace or in the notebook.\n",
    "\n",
    "Therefore, here we write our code in a Python script using the %%writefile cell magic:"
   ]
  },
  {
   "cell_type": "code",
   "execution_count": 15,
   "metadata": {
    "collapsed": false
   },
   "outputs": [
    {
     "name": "stdout",
     "output_type": "stream",
     "text": [
      "Overwriting simulation.py\n"
     ]
    }
   ],
   "source": [
    "%%writefile simulation.py\n",
    "import numpy as np\n",
    "def step(*shape):\n",
    "    # Create a random n-vector with +1 or -1 values.\n",
    "    return (2 * (np.random.random_sample(shape) < .5) - 1)\n",
    "\n",
    "def simulate(iterations, n=10000):\n",
    "    s = step(iterations, n)\n",
    "    x = np.cumsum(s, axis=0)\n",
    "    bins = np.arange(-30, 30, 1)\n",
    "    y = np.vstack([np.histogram(x[i,:], bins)[0] for i in range(iterations)])\n",
    "    return y"
   ]
  },
  {
   "cell_type": "markdown",
   "metadata": {},
   "source": [
    "Now, let's import this script into the interactive namespace so that we can execute and profile our code. \n",
    "\n",
    "The functions to be profiled need to be explicitly specified in the __`%lprun`__ magic command. We also save the report in a file, `lprof0`:"
   ]
  },
  {
   "cell_type": "code",
   "execution_count": 16,
   "metadata": {
    "collapsed": true
   },
   "outputs": [],
   "source": [
    "import simulation"
   ]
  },
  {
   "cell_type": "code",
   "execution_count": 17,
   "metadata": {
    "collapsed": false
   },
   "outputs": [
    {
     "name": "stdout",
     "output_type": "stream",
     "text": [
      "\n",
      "*** Profile printout saved to text file u'lprof0'. \n"
     ]
    }
   ],
   "source": [
    "%lprun -T lprof0 -f simulation.simulate simulation.simulate(500)"
   ]
  },
  {
   "cell_type": "markdown",
   "metadata": {},
   "source": [
    "Let's display the report:"
   ]
  },
  {
   "cell_type": "code",
   "execution_count": 18,
   "metadata": {
    "collapsed": false
   },
   "outputs": [
    {
     "name": "stdout",
     "output_type": "stream",
     "text": [
      "Timer unit: 1e-06 s\n",
      "\n",
      "Total time: 0.449523 s\n",
      "File: simulation.py\n",
      "Function: simulate at line 6\n",
      "\n",
      "Line #      Hits         Time  Per Hit   % Time  Line Contents\n",
      "==============================================================\n",
      "     6                                           def simulate(iterations, n=10000):\n",
      "     7         1       162747 162747.0     36.2      s = step(iterations, n)\n",
      "     8         1        37074  37074.0      8.2      x = np.cumsum(s, axis=0)\n",
      "     9         1           17     17.0      0.0      bins = np.arange(-30, 30, 1)\n",
      "    10       501       249684    498.4     55.5      y = np.vstack([np.histogram(x[i,:], bins)[0] for i in range(iterations)])\n",
      "    11         1            1      1.0      0.0      return y\n"
     ]
    }
   ],
   "source": [
    "print(open('lprof0', 'r').read())"
   ]
  },
  {
   "cell_type": "markdown",
   "metadata": {},
   "source": [
    "To see all the possible arguments run __`%lprun?`__."
   ]
  },
  {
   "cell_type": "markdown",
   "metadata": {},
   "source": [
    "<div id='memory' />\n",
    "## 3.- Memory Profiling\n",
    "\n",
    "* The methods described in the previous recipe were about CPU time profiling. However, __memory is also a critical factor__.\n",
    "* Writing memory-optimized code is not trivial and can __really make your program faster__. This is particularly important when dealing with __large NumPy arrays__.\n",
    "\n",
    "To profile memory usage we need and external module named `memory_profiler`. To install run one of these:\n",
    "* `conda install memory_profiler`\n",
    "* `pip install memory_profiler`\n",
    "\n",
    "Assuming that the simulation code has been loaded as shown above, we load the memory profiler IPython extension:"
   ]
  },
  {
   "cell_type": "code",
   "execution_count": 19,
   "metadata": {
    "collapsed": true
   },
   "outputs": [],
   "source": [
    "%load_ext memory_profiler"
   ]
  },
  {
   "cell_type": "markdown",
   "metadata": {},
   "source": [
    "The __`memory_profiler`__ package checks the memory usage of the interpreter at every line. The increment column allows us to spot those places in the code where large amounts of memory are allocated.\n",
    "\n",
    "\n",
    "Now, let's run the code under the control of the memory profiler:"
   ]
  },
  {
   "cell_type": "code",
   "execution_count": 29,
   "metadata": {
    "collapsed": false
   },
   "outputs": [
    {
     "name": "stdout",
     "output_type": "stream",
     "text": [
      "('',)\n",
      "\n",
      "*** Profile printout saved to text file mprof0. \n"
     ]
    }
   ],
   "source": [
    "%mprun -T mprof0 -f simulation.simulate simulation.simulate(1500)"
   ]
  },
  {
   "cell_type": "markdown",
   "metadata": {},
   "source": [
    "Let's show the results:"
   ]
  },
  {
   "cell_type": "code",
   "execution_count": 30,
   "metadata": {
    "collapsed": false
   },
   "outputs": [
    {
     "name": "stdout",
     "output_type": "stream",
     "text": [
      "Filename: simulation.py\n",
      "\n",
      "Line #    Mem usage    Increment   Line Contents\n",
      "================================================\n",
      "     6    497.5 MiB      0.0 MiB   def simulate(iterations, n=10000):\n",
      "     7    497.5 MiB      0.0 MiB       s = step(iterations, n)\n",
      "     8    497.5 MiB      0.0 MiB       x = np.cumsum(s, axis=0)\n",
      "     9    497.5 MiB      0.0 MiB       bins = np.arange(-30, 30, 1)\n",
      "    10    497.5 MiB      0.0 MiB       y = np.vstack([np.histogram(x[i,:], bins)[0] for i in range(iterations)])\n",
      "    11    497.5 MiB      0.0 MiB       return y\n"
     ]
    }
   ],
   "source": [
    "print(open('mprof0', 'r').read())"
   ]
  },
  {
   "cell_type": "markdown",
   "metadata": {},
   "source": [
    "The __`memory_profiler`__ IPython extension also comes with a __`%memit`__ magic command that lets us benchmark the memory used by a single Python statement. Here is a simple example:"
   ]
  },
  {
   "cell_type": "code",
   "execution_count": 36,
   "metadata": {
    "collapsed": false
   },
   "outputs": [
    {
     "name": "stdout",
     "output_type": "stream",
     "text": [
      "peak memory: 467.33 MiB, increment: 137.66 MiB\n"
     ]
    }
   ],
   "source": [
    "%memit np.random.randn(2000, 10000)"
   ]
  },
  {
   "cell_type": "markdown",
   "metadata": {},
   "source": [
    "<div id='Application' />\n",
    "## 4.- Application: K-Means Clustering Algorithm"
   ]
  },
  {
   "cell_type": "markdown",
   "metadata": {},
   "source": [
    "This is an algorithm that find structure over unlabeled data, i.e, it is an __unsupervised learning algorithm__. It is very simple, and works as follows: \n",
    "\n",
    "1. initialize $k$ cluster centroids\n",
    "2. Repeat the following:\n",
    "    * 2.1.- For each point, compute which centroid is nearest to it.\n",
    "    * 2.2.- For each centroid, move its location to the mean location of the points assigned to it."
   ]
  },
  {
   "cell_type": "markdown",
   "metadata": {},
   "source": [
    "Let's first generate a set of random 2D points:"
   ]
  },
  {
   "cell_type": "code",
   "execution_count": 37,
   "metadata": {
    "collapsed": true
   },
   "outputs": [],
   "source": [
    "points = np.vstack(((np.random.randn(150, 2) * 0.75 + np.array([1, 0])),\n",
    "                  (np.random.randn(50, 2) * 0.25 + np.array([-0.5, 0.5])),\n",
    "                  (np.random.randn(50, 2) * 0.5 + np.array([-0.5, -0.5]))))"
   ]
  },
  {
   "cell_type": "code",
   "execution_count": 41,
   "metadata": {
    "collapsed": false
   },
   "outputs": [
    {
     "data": {
      "text/plain": [
       "(250, 2)"
      ]
     },
     "execution_count": 41,
     "metadata": {},
     "output_type": "execute_result"
    }
   ],
   "source": [
    "points.shape"
   ]
  },
  {
   "cell_type": "code",
   "execution_count": 38,
   "metadata": {
    "collapsed": false
   },
   "outputs": [
    {
     "data": {
      "image/png": "[encoded data removed]",
      "text/plain": [
       "<matplotlib.figure.Figure at 0x11ae5c390>"
      ]
     },
     "metadata": {},
     "output_type": "display_data"
    }
   ],
   "source": [
    "plt.figure(figsize=(7,7))\n",
    "plt.scatter(points[:, 0], points[:, 1])\n",
    "plt.grid()\n",
    "plt.show()"
   ]
  },
  {
   "cell_type": "code",
   "execution_count": 39,
   "metadata": {
    "collapsed": true
   },
   "outputs": [],
   "source": [
    "def initialize_centroids(points, k):\n",
    "    \"\"\"returns k centroids from the initial points\"\"\"\n",
    "    centroids = points.copy()\n",
    "    np.random.shuffle(centroids)\n",
    "    return centroids[:k]"
   ]
  },
  {
   "cell_type": "markdown",
   "metadata": {},
   "source": [
    "And lest visualize the choosen (initial) centroids:"
   ]
  },
  {
   "cell_type": "code",
   "execution_count": 40,
   "metadata": {
    "collapsed": false
   },
   "outputs": [
    {
     "data": {
      "image/png": "[encoded data removed]",
      "text/plain": [
       "<matplotlib.figure.Figure at 0x11ac9cf10>"
      ]
     },
     "metadata": {},
     "output_type": "display_data"
    }
   ],
   "source": [
    "centroids = initialize_centroids(points, 3)\n",
    "\n",
    "plt.figure(figsize=(7,7))\n",
    "plt.scatter(points[:, 0], points[:, 1])\n",
    "plt.scatter(centroids[:, 0], centroids[:, 1], c='r', s=100)\n",
    "plt.grid()\n",
    "plt.show()"
   ]
  },
  {
   "cell_type": "markdown",
   "metadata": {},
   "source": [
    "The following function computes which is the closest centroid for each point in the dataset"
   ]
  },
  {
   "cell_type": "code",
   "execution_count": 42,
   "metadata": {
    "collapsed": true
   },
   "outputs": [],
   "source": [
    "def closest_centroid(points,centroids):\n",
    "    \"\"\"returns an array containing the index to the nearest centroid for each point\"\"\"\n",
    "    # computation of distance matrix\n",
    "    m = points.shape[0]\n",
    "    n = centroids.shape[0]\n",
    "    D = np.zeros((m,n))\n",
    "    for i in range(m):\n",
    "        for j in range(n):\n",
    "            D[i,j] = np.sqrt( np.sum( (points[i]-centroids[j])**2 ) )\n",
    "    return np.argmin(D, axis=1)"
   ]
  },
  {
   "cell_type": "code",
   "execution_count": 46,
   "metadata": {
    "collapsed": true
   },
   "outputs": [],
   "source": [
    "closest = closest_centroid(points,centroids)"
   ]
  },
  {
   "cell_type": "markdown",
   "metadata": {},
   "source": [
    "And the next function __move/update__ the centroids according to the mean position of the cluster of points"
   ]
  },
  {
   "cell_type": "code",
   "execution_count": 47,
   "metadata": {
    "collapsed": true
   },
   "outputs": [],
   "source": [
    "def move_centroids(points, closest, centroids):\n",
    "    \"\"\"returns the new centroids assigned from the points closest to them\"\"\"\n",
    "    return np.array([points[closest==k].mean(axis=0) for k in range(centroids.shape[0])])"
   ]
  },
  {
   "cell_type": "code",
   "execution_count": 48,
   "metadata": {
    "collapsed": false
   },
   "outputs": [
    {
     "data": {
      "text/plain": [
       "array([[ 1.12402765, -0.08113644],\n",
       "       [-0.40321162,  0.60019621],\n",
       "       [-0.57634669, -0.72368945]])"
      ]
     },
     "execution_count": 48,
     "metadata": {},
     "output_type": "execute_result"
    }
   ],
   "source": [
    "move_centroids(points, closest, centroids)"
   ]
  },
  {
   "cell_type": "code",
   "execution_count": 50,
   "metadata": {
    "collapsed": false
   },
   "outputs": [
    {
     "data": {
      "image/png": "[encoded data removed]",
      "text/plain": [
       "<matplotlib.figure.Figure at 0x11b21d650>"
      ]
     },
     "metadata": {},
     "output_type": "display_data"
    }
   ],
   "source": [
    "plt.subplot(121)\n",
    "plt.scatter(points[:, 0], points[:, 1])\n",
    "plt.scatter(centroids[:, 0], centroids[:, 1], c='r', s=100)\n",
    "\n",
    "centroids = move_centroids(points, closest, centroids)\n",
    "\n",
    "plt.subplot(122)\n",
    "plt.scatter(points[:, 0], points[:, 1])\n",
    "plt.scatter(centroids[:, 0], centroids[:, 1], c='r', s=100)\n",
    "plt.show()"
   ]
  },
  {
   "cell_type": "code",
   "execution_count": 51,
   "metadata": {
    "collapsed": true
   },
   "outputs": [],
   "source": [
    "def main_loop(points, centroids, n_iter, tol=1e-8):\n",
    "    for i in range(n_iter):\n",
    "        closest = closest_centroid(points, centroids)\n",
    "        _centroids = move_centroids(points, closest, centroids)\n",
    "        if np.sum((_centroids-centroids)**2, axis=1).max() < tol:\n",
    "            centroids = _centroids\n",
    "            break\n",
    "        centroids = _centroids\n",
    "    return centroids"
   ]
  },
  {
   "cell_type": "markdown",
   "metadata": {},
   "source": [
    "Now let's profile the execution of this funcion and its sub-functions calls. We use a set of $10000$ points now:"
   ]
  },
  {
   "cell_type": "code",
   "execution_count": 52,
   "metadata": {
    "collapsed": true
   },
   "outputs": [],
   "source": [
    "points = np.vstack(((np.random.randn(5000, 2) * 0.75 + np.array([1, 0])),\n",
    "                  (np.random.randn(2500, 2) * 0.25 + np.array([-0.5, 0.5])),\n",
    "                  (np.random.randn(2500, 2) * 0.5 + np.array([-0.5, -0.5]))))"
   ]
  },
  {
   "cell_type": "code",
   "execution_count": 53,
   "metadata": {
    "collapsed": false
   },
   "outputs": [
    {
     "name": "stdout",
     "output_type": "stream",
     "text": [
      " \n",
      "*** Profile printout saved to text file u'prun1'. \n"
     ]
    }
   ],
   "source": [
    "%%prun -s cumulative -q -l 15 -T prun1\n",
    "main_loop(points, centroids, 1000)"
   ]
  },
  {
   "cell_type": "code",
   "execution_count": 54,
   "metadata": {
    "collapsed": false
   },
   "outputs": [
    {
     "name": "stdout",
     "output_type": "stream",
     "text": [
      "         4031306 function calls in 8.597 seconds\n",
      "\n",
      "   Ordered by: cumulative time\n",
      "   List reduced from 21 to 15 due to restriction <15>\n",
      "\n",
      "   ncalls  tottime  percall  cumtime  percall filename:lineno(function)\n",
      "        1    0.000    0.000    8.597    8.597 <string>:2(<module>)\n",
      "        1    0.001    0.001    8.597    8.597 <ipython-input-51-27467b285d0a>:1(main_loop)\n",
      "       31    4.099    0.132    8.573    0.277 <ipython-input-42-af93b75f3bb8>:1(closest_centroid)\n",
      "   930031    1.529    0.000    4.326    0.000 fromnumeric.py:1743(sum)\n",
      "   930031    0.332    0.000    2.439    0.000 _methods.py:31(_sum)\n",
      "   930155    2.114    0.000    2.114    0.000 {method 'reduce' of 'numpy.ufunc' objects}\n",
      "   930217    0.358    0.000    0.358    0.000 {isinstance}\n",
      "   310063    0.145    0.000    0.145    0.000 {range}\n",
      "       31    0.013    0.000    0.022    0.001 <ipython-input-47-a8bc1b8c3b4f>:1(move_centroids)\n",
      "       93    0.000    0.000    0.009    0.000 {method 'mean' of 'numpy.ndarray' objects}\n",
      "       93    0.001    0.000    0.009    0.000 _methods.py:53(_mean)\n",
      "       31    0.000    0.000    0.003    0.000 fromnumeric.py:976(argmin)\n",
      "       31    0.003    0.000    0.003    0.000 {method 'argmin' of 'numpy.ndarray' objects}\n",
      "       31    0.001    0.000    0.001    0.000 {numpy.core.multiarray.zeros}\n",
      "       93    0.000    0.000    0.000    0.000 _methods.py:43(_count_reduce_items)\n"
     ]
    }
   ],
   "source": [
    "print(open('prun1', 'r').read())"
   ]
  },
  {
   "cell_type": "markdown",
   "metadata": {},
   "source": [
    "Clearly the problem is the __`closest_centroid`__ function!. Now that we have isolated the problem, we do a line profile of this single function:"
   ]
  },
  {
   "cell_type": "code",
   "execution_count": 55,
   "metadata": {
    "collapsed": false
   },
   "outputs": [
    {
     "name": "stdout",
     "output_type": "stream",
     "text": [
      "\n",
      "*** Profile printout saved to text file u'lprof2'. \n"
     ]
    }
   ],
   "source": [
    "%lprun -T lprof2 -f closest_centroid closest_centroid(points, centroids)"
   ]
  },
  {
   "cell_type": "code",
   "execution_count": 56,
   "metadata": {
    "collapsed": false
   },
   "outputs": [
    {
     "name": "stdout",
     "output_type": "stream",
     "text": [
      "Timer unit: 1e-06 s\n",
      "\n",
      "Total time: 0.398152 s\n",
      "File: <ipython-input-42-af93b75f3bb8>\n",
      "Function: closest_centroid at line 1\n",
      "\n",
      "Line #      Hits         Time  Per Hit   % Time  Line Contents\n",
      "==============================================================\n",
      "     1                                           def closest_centroid(points,centroids):\n",
      "     2                                               \"\"\"returns an array containing the index to the nearest centroid for each point\"\"\"\n",
      "     3                                               # computation of distance matrix\n",
      "     4         1            5      5.0      0.0      m = points.shape[0]\n",
      "     5         1            1      1.0      0.0      n = centroids.shape[0]\n",
      "     6         1          226    226.0      0.1      D = np.zeros((m,n))\n",
      "     7     10001         6259      0.6      1.6      for i in range(m):\n",
      "     8     40000        33055      0.8      8.3          for j in range(n):\n",
      "     9     30000       358449     11.9     90.0              D[i,j] = np.sqrt( np.sum( (points[i]-centroids[j])**2 ) )\n",
      "    10         1          157    157.0      0.0      return np.argmin(D, axis=1)\n"
     ]
    }
   ],
   "source": [
    "print(open('lprof2', 'r').read())"
   ]
  },
  {
   "cell_type": "markdown",
   "metadata": {},
   "source": [
    "As you should suspect, the problem is that NumPy arrays are not meant to be iterated by Python, but we have to implement this algorithm in a vectorial way (or make it faster with Numba/Cython). \n",
    "\n",
    "The next is a re-implementation of the algorithm, using native NumPy functions:"
   ]
  },
  {
   "cell_type": "code",
   "execution_count": 57,
   "metadata": {
    "collapsed": true
   },
   "outputs": [],
   "source": [
    "def closest_centroid(points, centroids):\n",
    "    \"\"\"returns an array containing the index to the nearest centroid for each point\"\"\"\n",
    "    px = points[:,0].reshape((-1,1))\n",
    "    py = points[:,1].reshape((-1,1))\n",
    "    Dx = px - centroids[:,0].reshape((1,-1))\n",
    "    Dy = py - centroids[:,1].reshape((1,-1))\n",
    "    # distance matrix\n",
    "    D = np.sqrt(Dx**2+Dy**2)\n",
    "    return np.argmin(D, axis=1)"
   ]
  },
  {
   "cell_type": "markdown",
   "metadata": {},
   "source": [
    "Let's profile again:"
   ]
  },
  {
   "cell_type": "code",
   "execution_count": 58,
   "metadata": {
    "collapsed": false
   },
   "outputs": [
    {
     "name": "stdout",
     "output_type": "stream",
     "text": [
      " \n",
      "*** Profile printout saved to text file u'prun2'. \n"
     ]
    }
   ],
   "source": [
    "%%prun -s cumulative -q -l 15 -T prun2\n",
    "main_loop(points, centroids, 1000)"
   ]
  },
  {
   "cell_type": "code",
   "execution_count": 59,
   "metadata": {
    "collapsed": false
   },
   "outputs": [
    {
     "name": "stdout",
     "output_type": "stream",
     "text": [
      "         1368 function calls in 0.045 seconds\n",
      "\n",
      "   Ordered by: cumulative time\n",
      "   List reduced from 21 to 15 due to restriction <15>\n",
      "\n",
      "   ncalls  tottime  percall  cumtime  percall filename:lineno(function)\n",
      "        1    0.000    0.000    0.045    0.045 <string>:2(<module>)\n",
      "        1    0.001    0.001    0.045    0.045 <ipython-input-51-27467b285d0a>:1(main_loop)\n",
      "       31    0.019    0.001    0.022    0.001 <ipython-input-57-55f62e6f8a48>:1(closest_centroid)\n",
      "       31    0.012    0.000    0.022    0.001 <ipython-input-47-a8bc1b8c3b4f>:1(move_centroids)\n",
      "       93    0.000    0.000    0.009    0.000 {method 'mean' of 'numpy.ndarray' objects}\n",
      "       93    0.001    0.000    0.009    0.000 _methods.py:53(_mean)\n",
      "      155    0.008    0.000    0.008    0.000 {method 'reduce' of 'numpy.ufunc' objects}\n",
      "       31    0.000    0.000    0.003    0.000 fromnumeric.py:976(argmin)\n",
      "       31    0.003    0.000    0.003    0.000 {method 'argmin' of 'numpy.ndarray' objects}\n",
      "       31    0.000    0.000    0.000    0.000 fromnumeric.py:1743(sum)\n",
      "       93    0.000    0.000    0.000    0.000 _methods.py:43(_count_reduce_items)\n",
      "      124    0.000    0.000    0.000    0.000 {numpy.core.multiarray.array}\n",
      "       31    0.000    0.000    0.000    0.000 {method 'max' of 'numpy.ndarray' objects}\n",
      "      124    0.000    0.000    0.000    0.000 {method 'reshape' of 'numpy.ndarray' objects}\n",
      "       31    0.000    0.000    0.000    0.000 _methods.py:31(_sum)\n"
     ]
    }
   ],
   "source": [
    "print(open('prun2', 'r').read())"
   ]
  },
  {
   "cell_type": "markdown",
   "metadata": {},
   "source": [
    "__Mr Knuth will be proud :)__"
   ]
  },
  {
   "cell_type": "markdown",
   "metadata": {},
   "source": [
    "## Another interesting tools for profiling\n",
    "\n",
    "* [__RunSnakeRun__]( www.vrplumber.com/programming/runsnakerun/), a GUI tools for exploring and visualizing the output of a profiling session.\n",
    "* Python's __trace__ module it is extremely useful during in-depth debugging and profiling sessions. [More info](https://docs.python.org/3/library/trace.html).\n",
    "* (Memory) [Guppy-PE](http://guppy-pe.sourceforge.net/), [PySizer](http://pysizer.8325.org) and [Pympler](https://code.google.com/p/pympler/)."
   ]
  }
 ],
 "metadata": {
  "kernelspec": {
   "display_name": "Python 3",
   "language": "python",
   "name": "python3"
  },
  "language_info": {
   "codemirror_mode": {
    "name": "ipython",
    "version": 3
   },
   "file_extension": ".py",
   "mimetype": "text/x-python",
   "name": "python",
   "nbconvert_exporter": "python",
   "pygments_lexer": "ipython3",
   "version": "3.6.0"
  }
 },
 "nbformat": 4,
 "nbformat_minor": 1
}
