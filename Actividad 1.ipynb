{
 "cells": [
  {
   "cell_type": "markdown",
   "metadata": {},
   "source": [
    "<center>\n",
    "    <h1> Programación Científica</h1>\n",
    "    <h2> Actividad 1 </h2>\n",
    "    <h2> Felipe Chacón Ossa </h2>\n",
    "    <h2> 201303017-3 </h2>\n",
    "</center>\n",
    "\n",
    "_4 Abril 2017_"
   ]
  },
  {
   "cell_type": "markdown",
   "metadata": {
    "collapsed": true
   },
   "source": [
    "## Actividad #1\n",
    "\n",
    "Desarrolle una extensión de `IPython` (llamada `2to3_ext.py`) implementando un `cell magic`, que reciba en su celda un código en `Python2`, lo transforme a código compatible con `Python3`, y finalmente lo ejecute en una instancia del `IPython3`, imprimiendo en la salida. \n",
    "\n",
    "La entrega consiste en la extensión (`2to3_ext.py`) + un notebook de ejemplo de su extensión ejecutada con el código de a continuación:\n",
    "\n",
    "```python\n",
    "a = float(raw_input(\"Ingrese a: \"))\n",
    "b = float(raw_input(\"Ingrese b: \"))\n",
    "c = float(raw_input(\"Ingrese c: \"))\n",
    "\n",
    "if a>(b+c) or b>(a+c) or c>(a+b):\n",
    "\tprint \"Ingrese un traingulo valido.\"\n",
    "elif a==b and b==c:\n",
    "\tprint \"Triangulo equilatero.\"\n",
    "elif a==b or b==c or a==c:\n",
    "\tprint \"Triangulo isoceles.\"\n",
    "else:\n",
    "\tprint \"Triangulo escaleno.\"\n",
    "```\n",
    "\n",
    "**Nota:** Consideraremos que las únicas diferencias entre `Python2` y `Python3` son los `print`."
   ]
  },
  {
   "cell_type": "code",
   "execution_count": 1,
   "metadata": {
    "collapsed": false
   },
   "outputs": [],
   "source": [
    "%load_ext 2to3_ext"
   ]
  },
  {
   "cell_type": "code",
   "execution_count": 2,
   "metadata": {
    "collapsed": false
   },
   "outputs": [
    {
     "name": "stdout",
     "output_type": "stream",
     "text": [
      "\u001b]0;IPython: git/ScientificProgramming\u0007Triangulo escaleno.\n"
     ]
    }
   ],
   "source": [
    "%%from2to3\n",
    "a = 3\n",
    "b = 4\n",
    "c = 5\n",
    "\n",
    "if a>(b+c) or b>(a+c) or c>(a+b):\n",
    "    print \"Ingrese un traingulo valido.\"\n",
    "elif a==b and b==c:\n",
    "    print \"Triangulo equilatero.\"\n",
    "elif a==b or b==c or a==c:\n",
    "    print \"Triangulo isoceles.\"\n",
    "else:\n",
    "    print \"Triangulo escaleno.\""
   ]
  },
  {
   "cell_type": "code",
   "execution_count": 3,
   "metadata": {
    "collapsed": false
   },
   "outputs": [
    {
     "name": "stdout",
     "output_type": "stream",
     "text": [
      "Triangulo escaleno.\r\n"
     ]
    }
   ],
   "source": [
    "!python3 _temp.py"
   ]
  },
  {
   "cell_type": "markdown",
   "metadata": {},
   "source": [
    "No logré introducir input en el notebook, por lo que el código fue probado con números.\n",
    "También traté de solucionar el output entregado de tal forma que solo mostrara el tipo de Triangulo, pero el tiempo no me permitió avanzar tanto como hubiera deseado."
   ]
  },
  {
   "cell_type": "code",
   "execution_count": null,
   "metadata": {
    "collapsed": true
   },
   "outputs": [],
   "source": []
  }
 ],
 "metadata": {
  "kernelspec": {
   "display_name": "Python 3",
   "language": "python",
   "name": "python3"
  },
  "language_info": {
   "codemirror_mode": {
    "name": "ipython",
    "version": 3
   },
   "file_extension": ".py",
   "mimetype": "text/x-python",
   "name": "python",
   "nbconvert_exporter": "python",
   "pygments_lexer": "ipython3",
   "version": "3.6.0"
  }
 },
 "nbformat": 4,
 "nbformat_minor": 2
}
